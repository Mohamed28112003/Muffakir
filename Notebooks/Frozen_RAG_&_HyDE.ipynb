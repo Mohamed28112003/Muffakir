{
  "cells": [
    {
      "cell_type": "markdown",
      "metadata": {
        "id": "view-in-github",
        "colab_type": "text"
      },
      "source": [
        "<a href=\"https://colab.research.google.com/github/Mohamed28112003/Muffakir/blob/main/Notebooks/Frozen_RAG_%26_HyDE.ipynb\" target=\"_parent\"><img src=\"https://colab.research.google.com/assets/colab-badge.svg\" alt=\"Open In Colab\"/></a>"
      ]
    },
    {
      "cell_type": "markdown",
      "source": [
        "## **Libraries**"
      ],
      "metadata": {
        "id": "bY5XOMBuA8Uv"
      }
    },
    {
      "cell_type": "code",
      "execution_count": 1,
      "metadata": {
        "id": "5bWmGd91a030"
      },
      "outputs": [],
      "source": [
        "# !pip install  transformers\n",
        "# !pip install langchain\n",
        "# !pip install -U langchain-community\n",
        "# !pip install unstructured\n",
        "# !pip install \"unstructured[pdf]\"\n",
        "# !apt-get install -y poppler-utils\n",
        "# !pip install LangChain -q\n",
        "# !pip install langchain transformers\n",
        "# !pip install chromadb\n",
        "# !pip install sentence-transformers\n",
        "# !pip install rank-bm25 sentence-transformers\n",
        "# !pip uninstall nltk -y\n",
        "# !pip install nltk\n",
        "# !pip install openai\n",
        "# !pip install groq\n",
        "# !pip install langchain-groq\n",
        "# !pip install gradio"
      ]
    },
    {
      "cell_type": "code",
      "execution_count": 2,
      "metadata": {
        "id": "pzXFntYq8pys"
      },
      "outputs": [],
      "source": [
        "from transformers import AutoTokenizer\n",
        "from langchain.text_splitter import CharacterTextSplitter\n",
        "from transformers import AutoTokenizer, AutoModelForCausalLM\n",
        "from langchain import PromptTemplate\n",
        "from langchain.chains.question_answering import load_qa_chain\n",
        "from langchain.llms import OpenAI\n",
        "from langchain.text_splitter import RecursiveCharacterTextSplitter, CharacterTextSplitter\n",
        "from langchain.document_loaders import DirectoryLoader\n",
        "import re\n",
        "from langchain.vectorstores import Chroma\n",
        "from langchain.embeddings import HuggingFaceEmbeddings\n",
        "from sentence_transformers import SentenceTransformer\n",
        "import chromadb\n",
        "import os\n",
        "from langchain_groq import ChatGroq\n",
        "from langchain.schema import HumanMessage\n",
        "import gradio as gr\n",
        "from langchain.prompts import ChatPromptTemplate\n",
        "from langchain.schema import Document\n"
      ]
    },
    {
      "cell_type": "code",
      "source": [
        "from google.colab import drive\n",
        "drive.mount('/content/drive')"
      ],
      "metadata": {
        "id": "m1cSeOPZMErD"
      },
      "execution_count": null,
      "outputs": []
    },
    {
      "cell_type": "markdown",
      "metadata": {
        "id": "7gt5ufyTkPPq"
      },
      "source": [
        "## **Load TXT**"
      ]
    },
    {
      "cell_type": "code",
      "execution_count": 4,
      "metadata": {
        "id": "2-3BXNRVxMkI"
      },
      "outputs": [],
      "source": [
        "data_loader = DirectoryLoader(\"/content/drive/MyDrive/Data/حقوق /عين شمس /رابعه/TXT\",\n",
        "                             glob=\"*.txt\",\n",
        "                             show_progress=True)\n"
      ]
    },
    {
      "cell_type": "code",
      "source": [
        "text_splitter_recursive = RecursiveCharacterTextSplitter(\n",
        "    chunk_size=1000,\n",
        "    chunk_overlap=0,\n",
        "    separators=[\"Page number\"]\n",
        ")"
      ],
      "metadata": {
        "id": "G2UdWq4rqFxn"
      },
      "execution_count": 5,
      "outputs": []
    },
    {
      "cell_type": "code",
      "source": [
        "data = data_loader.load_and_split(text_splitter=text_splitter_recursive) # Load documents"
      ],
      "metadata": {
        "colab": {
          "base_uri": "https://localhost:8080/"
        },
        "id": "UaWMKcinqIAg",
        "outputId": "1347892c-ebd4-46c1-e1b2-e3a59735349c"
      },
      "execution_count": 6,
      "outputs": [
        {
          "output_type": "stream",
          "name": "stderr",
          "text": [
            "100%|██████████| 10/10 [02:08<00:00, 12.83s/it]\n"
          ]
        }
      ]
    },
    {
      "cell_type": "code",
      "source": [
        "print(f\"Documents : {len(data)}.\")"
      ],
      "metadata": {
        "colab": {
          "base_uri": "https://localhost:8080/"
        },
        "id": "VLa3P6NRRNOr",
        "outputId": "c7ce75bf-4bb6-42d3-c6f1-b2d78f5da85c"
      },
      "execution_count": 7,
      "outputs": [
        {
          "output_type": "stream",
          "name": "stdout",
          "text": [
            "Documents : 3391.\n"
          ]
        }
      ]
    },
    {
      "cell_type": "markdown",
      "source": [
        "##  **Clean Text**"
      ],
      "metadata": {
        "id": "gUmSWUoaKwEG"
      }
    },
    {
      "cell_type": "code",
      "source": [
        "data[9].page_content"
      ],
      "metadata": {
        "id": "TP2PknLyKu8f"
      },
      "execution_count": null,
      "outputs": []
    },
    {
      "cell_type": "code",
      "source": [
        "import re\n",
        "\n",
        "def clean_arabic_text(text):\n",
        "    text = re.sub(r'Page number: \\d+', '', text)\n",
        "    text = re.sub(r'- \\d+ -', '', text)\n",
        "    text = re.sub(r'[^\\u0600-\\u06FF0-9\\s]', '', text)\n",
        "    text = re.sub(r'[^\\w\\s\\u0600-\\u06FF0-9]', '', text)\n",
        "    text = re.sub(r'\\s+', ' ', text).strip()\n",
        "    return text\n",
        "\n",
        "for i in range(len(data)):\n",
        "    data[i].page_content = clean_arabic_text(data[i].page_content)\n"
      ],
      "metadata": {
        "id": "tZnvUF1JrUS2"
      },
      "execution_count": 9,
      "outputs": []
    },
    {
      "cell_type": "code",
      "source": [
        "data[9].page_content"
      ],
      "metadata": {
        "colab": {
          "base_uri": "https://localhost:8080/",
          "height": 91
        },
        "id": "8D8q5d3JK4aU",
        "outputId": "dddbc256-d627-4403-c5c7-5193b0889f13"
      },
      "execution_count": 10,
      "outputs": [
        {
          "output_type": "execute_result",
          "data": {
            "text/plain": [
              "'فالقاضي المطروح عليه النزاع يلجأ بحسب الأصل١ لقواعد الإسناد الوطنية لتحديد القانون الواجب التطبيق الذي قد يكون قانون دولة القاضي أو قانوناً أجنبيًا فإذا اشارت قاعدة الإسناد إلى تطبيق قانون دولة القاضي فإن مثل هذا التلازم يكون نتيجة عرضية أدى اليها تطبيق قواعد الإسناد في قانون القاضي وليس بسبب اختصاص المحكمة ومثال ذلك لجوء أطراف أجانب متوطنين في مصر إلى القاضي المصري وأشارت قاعدة الإسناد المصرية إلى تطبيق قانون موطنهم، ففي هذه الحالة يكون تطبيق القانون المصري راجعًا إلى موطن الأطراف أي معيار الإسناد وليس إلى اختصاص المحكمة ويتمتع المشرع الوطني بحرية تامة وهو بصدد صياغة القواعد المنظمة للاختصاص القضائي الدولي لمحاكمه الوطنية حيث أن الدولة تتمتع بكامل سيادتها في تشريع الاختصاص القضائي لمحاكمها ؛ حيث أن تلك الحرية لا يحد منها ١ مع الأخذ في الاعتبار الاتفاقيات الدولية التى وقعت عليها الدولة المعنية ١٢'"
            ],
            "application/vnd.google.colaboratory.intrinsic+json": {
              "type": "string"
            }
          },
          "metadata": {},
          "execution_count": 10
        }
      ]
    },
    {
      "cell_type": "code",
      "source": [
        "data[5].metadata"
      ],
      "metadata": {
        "id": "WknxEYFXP8ue",
        "outputId": "3c5905d4-1ead-4547-c3d3-08a8c89c52ea",
        "colab": {
          "base_uri": "https://localhost:8080/"
        }
      },
      "execution_count": 11,
      "outputs": [
        {
          "output_type": "execute_result",
          "data": {
            "text/plain": [
              "{'source': '/content/drive/MyDrive/Data/حقوق /عين شمس /رابعه/TXT/الاختصاص القضائي د.مينا عادل.txt'}"
            ]
          },
          "metadata": {},
          "execution_count": 11
        }
      ]
    },
    {
      "cell_type": "code",
      "source": [
        "import re\n",
        "\n",
        "def clean_metadata(metadata):\n",
        "    if 'source' in metadata:\n",
        "        source_path = metadata['source']\n",
        "        filename = source_path.split('/')[-1]\n",
        "        filename_without_extension = re.sub(r'\\.txt$', '', filename)\n",
        "        cleaned_metadata = re.sub(r'_', ' ', filename_without_extension)\n",
        "        return cleaned_metadata\n",
        "    return None\n",
        "\n",
        "for i in range(len(data)):\n",
        "    if isinstance(data[i].metadata, dict):\n",
        "        data[i].metadata['source'] = clean_metadata(data[i].metadata)\n",
        "\n"
      ],
      "metadata": {
        "id": "qhA43yFMPUtD"
      },
      "execution_count": 12,
      "outputs": []
    },
    {
      "cell_type": "code",
      "source": [
        "data[5].metadata"
      ],
      "metadata": {
        "id": "Vs7w5rMLQBix",
        "outputId": "4ab157b7-c9f9-416f-e561-084cc508ab55",
        "colab": {
          "base_uri": "https://localhost:8080/"
        }
      },
      "execution_count": 13,
      "outputs": [
        {
          "output_type": "execute_result",
          "data": {
            "text/plain": [
              "{'source': 'الاختصاص القضائي د.مينا عادل'}"
            ]
          },
          "metadata": {},
          "execution_count": 13
        }
      ]
    },
    {
      "cell_type": "markdown",
      "metadata": {
        "id": "bTfS8mm05aif"
      },
      "source": [
        "## **Embeddding**"
      ]
    },
    {
      "cell_type": "code",
      "execution_count": null,
      "metadata": {
        "id": "SxwZM_CvE0Qy"
      },
      "outputs": [],
      "source": [
        "base_model = SentenceTransformer('intfloat/multilingual-e5-large')"
      ]
    },
    {
      "cell_type": "code",
      "source": [
        "\n",
        "\n",
        "\n",
        "path = \"/content/DB\"\n",
        "client = chromadb.PersistentClient(path=path)\n",
        "\n",
        "db_file = client.get_or_create_collection(name='Book',\n",
        "                                          metadata={\"hnsw:space\": \"cosine\"})"
      ],
      "metadata": {
        "id": "Xg9WQfTx7Dst"
      },
      "execution_count": 15,
      "outputs": []
    },
    {
      "cell_type": "code",
      "source": [
        "def embed(texts):\n",
        "    return base_model.encode(texts)\n",
        "\n",
        "i = 0\n",
        "for chunk in data:\n",
        "    embeddings = embed([chunk.page_content])\n",
        "    db_file.add(\n",
        "        documents=[chunk.page_content],\n",
        "        metadatas=[chunk.metadata],\n",
        "        ids=[f\"chunk_{i}\"],\n",
        "        embeddings=embeddings  # Pass the embeddings directly\n",
        "    )\n",
        "    i += 1"
      ],
      "metadata": {
        "id": "Bf7HWs3qumwJ"
      },
      "execution_count": null,
      "outputs": []
    },
    {
      "cell_type": "code",
      "source": [
        "db_file.get(ids=[\"chunk_90\"])"
      ],
      "metadata": {
        "id": "PU9LDUXvj4l_"
      },
      "execution_count": null,
      "outputs": []
    },
    {
      "cell_type": "code",
      "source": [
        "def retrieve_documents_embeddings(query_embedding, k=10):\n",
        "    query_embedding_list = query_embedding.tolist()\n",
        "\n",
        "    results = db_file.query(\n",
        "        query_embeddings=[query_embedding_list],\n",
        "\n",
        "        n_results=k)\n",
        "    return results"
      ],
      "metadata": {
        "id": "1Gf7G2DU1hyz"
      },
      "execution_count": 18,
      "outputs": []
    },
    {
      "cell_type": "markdown",
      "metadata": {
        "id": "r1AMya0p4jnD"
      },
      "source": [
        "## **LLM**"
      ]
    },
    {
      "cell_type": "code",
      "execution_count": null,
      "metadata": {
        "id": "igcRsKVGMgyF"
      },
      "outputs": [],
      "source": [
        "\n",
        "\n",
        "os.environ[\"GROQ_API_KEY\"] = \"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\"\n",
        "\n",
        "llm = ChatGroq(\n",
        "    api_key=os.getenv(\"GROQ_API_KEY\"),\n",
        "    model=\"llama-3.3-70b-versatile\",\n",
        "    temperature=0.7,\n",
        "    max_tokens=300,\n",
        ")\n",
        "\n",
        "messages = [\n",
        "    HumanMessage(content=\"Hello\")\n",
        "]\n",
        "\n",
        "response = llm.invoke(messages)\n",
        "\n",
        "for chunk in response:\n",
        "    content = chunk[0] if isinstance(chunk, tuple) else chunk\n",
        "    print(content or \"\", end=\"\")\n"
      ]
    },
    {
      "cell_type": "code",
      "execution_count": 34,
      "metadata": {
        "colab": {
          "base_uri": "https://localhost:8080/"
        },
        "id": "wLz-Nju8PM1f",
        "outputId": "5ab9cb4c-4f09-44ae-db09-28b41cd67ccf"
      },
      "outputs": [
        {
          "output_type": "stream",
          "name": "stdout",
          "text": [
            "Hello. It's nice to meet you. Is there something I can help you with or would you like to chat?\n"
          ]
        }
      ],
      "source": [
        "print(response.content)"
      ]
    },
    {
      "cell_type": "code",
      "execution_count": 21,
      "metadata": {
        "id": "kF-zgGCrPD4u"
      },
      "outputs": [],
      "source": [
        "#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"
      ]
    },
    {
      "cell_type": "markdown",
      "source": [
        "## **Frozen RAG**"
      ],
      "metadata": {
        "id": "TOmxl6qb1vEZ"
      }
    },
    {
      "cell_type": "code",
      "execution_count": 46,
      "metadata": {
        "id": "m_HoYqI_Pb6q"
      },
      "outputs": [],
      "source": [
        "qna_template = \"\\n\".join([\n",
        "    \"Act as a knowledgeable law professor. Analyze the provided legal context and respond to the subsequent question with thoroughness and clarity. If the information needed to answer the question is not present in the context, respond with 'NO ANSWER IS AVAILABLE.'\",\n",
        "    \"give the short answer with Arabic accent \",\n",
        "\n",
        "    \"### Context\",\n",
        "    \"{context}\",\n",
        "\n",
        "    \"### Question\",\n",
        "    \"{question}\",\n",
        "\n",
        "    \"### Answer:\",\n",
        "])\n",
        "\n",
        "qna_prompt = PromptTemplate(\n",
        "    template=qna_template,\n",
        "    input_variables=['context', 'question'],\n",
        "    verbose=True\n",
        ")\n",
        "\n",
        "stuff_chain = load_qa_chain(llm, chain_type=\"stuff\", prompt=qna_prompt)\n"
      ]
    },
    {
      "cell_type": "code",
      "source": [
        "# Sample query\n",
        "query = ''''\n",
        "\n",
        "ما أهمية التنفيذ الجبري في قانون المرافعات؟\n",
        "\n",
        "'''\n",
        "\n",
        "query_embedding = base_model.encode(query)\n",
        "\n",
        "similar_documents = retrieve_documents_embeddings(query_embedding, k=7)\n",
        "\n"
      ],
      "metadata": {
        "id": "ADw5t1W1Zwod"
      },
      "execution_count": 47,
      "outputs": []
    },
    {
      "cell_type": "code",
      "source": [
        "documents = similar_documents['documents'][0]\n",
        "metadatas = similar_documents['metadatas'][0]\n",
        "\n",
        "from langchain.schema import Document\n",
        "formatted_documents = [\n",
        "    Document(page_content=doc, metadata=meta)\n",
        "    for doc, meta in zip(documents, metadatas)\n",
        "]"
      ],
      "metadata": {
        "id": "14vy04IW0D6h"
      },
      "execution_count": 48,
      "outputs": []
    },
    {
      "cell_type": "code",
      "execution_count": 49,
      "metadata": {
        "id": "OaMsiKJdJec4"
      },
      "outputs": [],
      "source": [
        "answer = stuff_chain(\n",
        "    {\n",
        "        \"input_documents\": formatted_documents,\n",
        "        \"question\": query\n",
        "    },\n",
        "    return_only_outputs=True,\n",
        ")\n",
        "\n"
      ]
    },
    {
      "cell_type": "code",
      "source": [
        "output_text = answer['output_text']\n",
        "\n",
        "print(\"Generated Answer:\")\n",
        "print(\"=\" * 50)\n",
        "print(output_text)\n"
      ],
      "metadata": {
        "id": "qgf9zScIcNMt",
        "colab": {
          "base_uri": "https://localhost:8080/"
        },
        "outputId": "d03face4-6118-4084-de6b-6192b29f68ec"
      },
      "execution_count": 50,
      "outputs": [
        {
          "output_type": "stream",
          "name": "stdout",
          "text": [
            "Generated Answer:\n",
            "==================================================\n",
            "بكلّ بساطة، أهمية التنفيذ الجبري تكمن في حماية الحقوق والمراكز الموضوعية للأفراد، وتحقيق الحماية التنفيذية لهذه الحقوق أو المراكز الثابتة في السندات التنفيذية، مما يؤدي إلى استقرار المعاملات القانونية، ويتبعه استقرار اقتصادي واجتماعي لنظام الدولة.\n"
          ]
        }
      ]
    },
    {
      "cell_type": "markdown",
      "source": [
        "### **Gradio Frozen RAG**"
      ],
      "metadata": {
        "id": "uW2rbR3z8ou7"
      }
    },
    {
      "cell_type": "code",
      "source": [
        "\n",
        "def generate_answer(query):\n",
        "    query_embedding = base_model.encode(query)\n",
        "\n",
        "    similar_documents = retrieve_documents_embeddings(query_embedding, k=7)\n",
        "\n",
        "    documents = similar_documents['documents'][0]\n",
        "    metadatas = similar_documents['metadatas'][0]\n",
        "\n",
        "    formatted_documents = [\n",
        "        Document(page_content=doc, metadata=meta)\n",
        "        for doc, meta in zip(documents, metadatas)\n",
        "    ]\n",
        "    answer = stuff_chain(\n",
        "        {\n",
        "            \"input_documents\": formatted_documents,\n",
        "            \"question\": query\n",
        "        },\n",
        "        return_only_outputs=True,\n",
        "    )\n",
        "\n",
        "    output_text = answer['output_text']\n",
        "\n",
        "    similar_docs_str = \"\\n\".join([f\"**Document {i+1}:**\\n{doc}\\n**Metadata:** {meta}\" for i, (doc, meta) in enumerate(zip(documents, metadatas))])\n",
        "\n",
        "    return output_text, similar_docs_str\n",
        "\n",
        "\n",
        "\n",
        "iface = gr.Interface(\n",
        "    fn=generate_answer,\n",
        "    inputs=gr.Textbox(lines=5, placeholder=\"Enter your query here...\"),\n",
        "    outputs=[\n",
        "        gr.Textbox(label=\"Answer\"),\n",
        "        gr.Textbox(label=\"Similar Documents with Metadata\")\n",
        "    ],\n",
        "\n",
        "        examples=[\n",
        "        \"ما أهمية التنفيذ الجبري في قانون المرافعات؟\",\n",
        "        \"ما هي قواعد الاختصاص القضائي في القانون المصري؟\",\n",
        "    ],\n",
        "    title=\"Muffakir\",\n",
        "    description=\"Ask your questions\"\n",
        ")\n",
        "\n",
        "iface.launch(share=True)"
      ],
      "metadata": {
        "id": "XTW3vIGu7qVj",
        "colab": {
          "base_uri": "https://localhost:8080/",
          "height": 614
        },
        "outputId": "8730e670-1d5b-4f01-bb78-800d421ffd2c"
      },
      "execution_count": 51,
      "outputs": [
        {
          "output_type": "stream",
          "name": "stdout",
          "text": [
            "Colab notebook detected. To show errors in colab notebook, set debug=True in launch()\n",
            "* Running on public URL: https://6ea0897362df397a3e.gradio.live\n",
            "\n",
            "This share link expires in 72 hours. For free permanent hosting and GPU upgrades, run `gradio deploy` from the terminal in the working directory to deploy to Hugging Face Spaces (https://huggingface.co/spaces)\n"
          ]
        },
        {
          "output_type": "display_data",
          "data": {
            "text/plain": [
              "<IPython.core.display.HTML object>"
            ],
            "text/html": [
              "<div><iframe src=\"https://6ea0897362df397a3e.gradio.live\" width=\"100%\" height=\"500\" allow=\"autoplay; camera; microphone; clipboard-read; clipboard-write;\" frameborder=\"0\" allowfullscreen></iframe></div>"
            ]
          },
          "metadata": {}
        },
        {
          "output_type": "execute_result",
          "data": {
            "text/plain": []
          },
          "metadata": {},
          "execution_count": 51
        }
      ]
    },
    {
      "cell_type": "markdown",
      "source": [
        "## **Hypothetical Document Embeddings**\n"
      ],
      "metadata": {
        "id": "n8njMCAFskq6"
      }
    },
    {
      "cell_type": "code",
      "source": [
        "query_hyde = ''''\n",
        "\n",
        "ما أهمية التنفيذ الجبري في قانون المرافعات؟\n",
        "\n",
        "'''"
      ],
      "metadata": {
        "id": "1kA5q1GM03AW"
      },
      "execution_count": 52,
      "outputs": []
    },
    {
      "cell_type": "code",
      "source": [
        "\n",
        "template_hyde = \"\\n\".join([\n",
        "    \"Act as a Law professor from egypt. Analyze the provided law question and respond to the subsequent question with thoroughness and clarity.\",\n",
        "    \"give the short answer in arabic only \",\n",
        "\n",
        "\n",
        "    \"### Question\",\n",
        "    \"{question}\",\n",
        "\n",
        "    \"### Answer:\",\n",
        "])\n",
        "prompt_hyde = ChatPromptTemplate.from_template(template_hyde)\n",
        "\n",
        "hypothetical_document = llm.invoke(prompt_hyde.format(question=query_hyde))\n"
      ],
      "metadata": {
        "id": "oyFfU_RH0iiG"
      },
      "execution_count": 53,
      "outputs": []
    },
    {
      "cell_type": "code",
      "source": [
        "\n",
        "\n",
        "hypothetical_document_embedding = base_model.encode(hypothetical_document.content)\n",
        "\n",
        "similar_documents_hyde = retrieve_documents_embeddings(hypothetical_document_embedding, k=5)\n",
        "\n",
        "\n",
        "\n",
        "documents_hyde = similar_documents_hyde['documents'][0]\n",
        "metadatas_hyde = similar_documents_hyde['metadatas'][0]\n",
        "\n",
        "from langchain.schema import Document\n",
        "formatted_documents_hyde = [\n",
        "    Document(page_content=doc, metadata=meta)\n",
        "    for doc, meta in zip(documents_hyde, metadatas_hyde)\n",
        "]\n"
      ],
      "metadata": {
        "id": "4wLIGiyi0jfW"
      },
      "execution_count": 54,
      "outputs": []
    },
    {
      "cell_type": "code",
      "source": [
        "answer = stuff_chain(\n",
        "        {\n",
        "            \"input_documents\": formatted_documents_hyde ,\n",
        "            \"question\": query\n",
        "        },\n",
        "        return_only_outputs=True\n",
        "    )\n",
        "\n",
        "\n",
        "output_text = answer['output_text']\n",
        "\n",
        "# Print the formatted answer\n",
        "print(\"Generated Answer:\")\n",
        "print(\"=\" * 50)\n",
        "print(output_text)\n"
      ],
      "metadata": {
        "id": "6s7XjcIjsiLQ",
        "colab": {
          "base_uri": "https://localhost:8080/"
        },
        "outputId": "ae9aa584-7823-4167-929b-740bad58cde9"
      },
      "execution_count": 55,
      "outputs": [
        {
          "output_type": "stream",
          "name": "stdout",
          "text": [
            "Generated Answer:\n",
            "==================================================\n",
            "جهز كلامي كله بالتفصيل، التنفيذ الجبري مهم جداً في قانون المرافعات، لأنه يضمن تنفيذ الأحكام القضائية والضمانات التي تمنحها القانون. يعني، عندما يحكم القاضي بتحقيق حق ما، فإن التنفيذ الجبري يضمن أن هذا الحق يتم تنفيذه بالفعل. بدون التنفيذ الجبري، لن يكون للقانون أي قوة أو فعالية في تطبيق أحكامه.\n",
            "\n",
            "بالإضافة إلى ذلك، التنفيذ الجبري يلعب دوراً أساسياً في الحفاظ على النظام القانوني والاستقرار الاجتماعي. عندما يتم تطبيق القانون بشكل عادل وموضوعي، فإن ذلك يؤدي إلى الثقة في النظام القانوني ويعزز الاستقرار الاجتماعي.\n",
            "\n",
            "أيضاً، التنفيذ الجبري يحدد حقوق وتعهدات الأطراف في النزاع، ويضمن أن يتم تطبيق القانون بشكل عادل ومنصف. يعني، أنه يمنع أي طرف من النزاع من الاستفادة من موقفه أو من خلال التلاعب بالقانون.\n",
            "\n",
            "في النهاية، التنفيذ الجبري هو أداة أساسية في تطبيق القانون وتحقيق العدالة. بدونها، لن يكون للقانون أي قوة أو فعالية في تطبيق أحك\n"
          ]
        }
      ]
    },
    {
      "cell_type": "markdown",
      "source": [
        "### **Gradio HyDE**"
      ],
      "metadata": {
        "id": "ud1RYUFBAwYd"
      }
    },
    {
      "cell_type": "code",
      "source": [
        "\n",
        "template_hyde = \"\\n\".join([\n",
        "    \"Act as a Law professor from Egypt. Analyze the provided law question and respond to the subsequent question with thoroughness and clarity.\",\n",
        "    \"give the answer in details in arabic only.\",\n",
        "\n",
        "    \"### Question\",\n",
        "    \"{question}\",\n",
        "\n",
        "    \"### Answer:\",\n",
        "])\n",
        "prompt_hyde = ChatPromptTemplate.from_template(template_hyde)\n",
        "\n",
        "def law_chatbot(query):\n",
        "    try:\n",
        "        hypothetical_document = llm.invoke(prompt_hyde.format(question=query))\n",
        "\n",
        "        hypothetical_document_embedding = base_model.encode(hypothetical_document.content)\n",
        "\n",
        "        similar_documents_hyde = retrieve_documents_embeddings(hypothetical_document_embedding, k=5)\n",
        "\n",
        "        documents_hyde = similar_documents_hyde['documents'][0]\n",
        "        metadatas_hyde = similar_documents_hyde['metadatas'][0]\n",
        "\n",
        "        formatted_documents_hyde = [\n",
        "            Document(page_content=doc, metadata=meta)\n",
        "            for doc, meta in zip(documents_hyde, metadatas_hyde)\n",
        "        ]\n",
        "\n",
        "        answer = stuff_chain(\n",
        "            {\n",
        "                \"input_documents\": formatted_documents_hyde,\n",
        "                \"question\": query\n",
        "            },\n",
        "            return_only_outputs=True\n",
        "        )\n",
        "\n",
        "        output_text = answer['output_text']\n",
        "\n",
        "        documents_display = \"\\n\\n\".join([f\"Document {i+1}:\\n{doc}\" for i, doc in enumerate(documents_hyde)])\n",
        "        metadata_display = \"\\n\\n\".join([f\"Metadata {i+1}:\\n{meta}\" for i, meta in enumerate(metadatas_hyde)])\n",
        "\n",
        "        return output_text, documents_display, metadata_display\n",
        "\n",
        "    except Exception as e:\n",
        "        return f\"An error occurred: {str(e)}\", \"\", \"\"\n",
        "\n",
        "iface = gr.Interface(\n",
        "    fn=law_chatbot,\n",
        "    inputs=\"text\",\n",
        "    outputs=[\n",
        "        gr.Textbox(label=\"Chatbot Answer\", lines=10),\n",
        "        gr.Textbox(label=\"Similar Documents\", lines=10),\n",
        "        gr.Textbox(label=\"Metadata\", lines=10),\n",
        "    ],\n",
        "\n",
        "\n",
        "        examples=[\n",
        "        \"ما أهمية التنفيذ الجبري في قانون المرافعات؟\",\n",
        "        \"ما هي قواعد الاختصاص القضائي في القانون المصري؟\",\n",
        "    ],\n",
        "\n",
        "    title=\"Muffakir HyDE \",\n",
        "    description=\"Ask any question\",\n",
        "\n",
        ")\n",
        "\n",
        "iface.launch()\n"
      ],
      "metadata": {
        "id": "hEHego1e-7WL",
        "colab": {
          "base_uri": "https://localhost:8080/",
          "height": 0
        },
        "outputId": "ddf2f2d6-a660-4564-87fc-67499c2991f3"
      },
      "execution_count": 56,
      "outputs": [
        {
          "output_type": "stream",
          "name": "stdout",
          "text": [
            "Running Gradio in a Colab notebook requires sharing enabled. Automatically setting `share=True` (you can turn this off by setting `share=False` in `launch()` explicitly).\n",
            "\n",
            "Colab notebook detected. To show errors in colab notebook, set debug=True in launch()\n",
            "* Running on public URL: https://5bf1cc16d86c04c98d.gradio.live\n",
            "\n",
            "This share link expires in 72 hours. For free permanent hosting and GPU upgrades, run `gradio deploy` from the terminal in the working directory to deploy to Hugging Face Spaces (https://huggingface.co/spaces)\n"
          ]
        },
        {
          "output_type": "display_data",
          "data": {
            "text/plain": [
              "<IPython.core.display.HTML object>"
            ],
            "text/html": [
              "<div><iframe src=\"https://5bf1cc16d86c04c98d.gradio.live\" width=\"100%\" height=\"500\" allow=\"autoplay; camera; microphone; clipboard-read; clipboard-write;\" frameborder=\"0\" allowfullscreen></iframe></div>"
            ]
          },
          "metadata": {}
        },
        {
          "output_type": "execute_result",
          "data": {
            "text/plain": []
          },
          "metadata": {},
          "execution_count": 56
        }
      ]
    },
    {
      "cell_type": "code",
      "source": [],
      "metadata": {
        "id": "bRboaLBiV4F1"
      },
      "execution_count": 56,
      "outputs": []
    }
  ],
  "metadata": {
    "colab": {
      "provenance": [],
      "collapsed_sections": [
        "7gt5ufyTkPPq"
      ],
      "gpuType": "T4",
      "include_colab_link": true
    },
    "kernelspec": {
      "display_name": "Python 3",
      "name": "python3"
    },
    "language_info": {
      "name": "python"
    },
    "accelerator": "GPU"
  },
  "nbformat": 4,
  "nbformat_minor": 0
}