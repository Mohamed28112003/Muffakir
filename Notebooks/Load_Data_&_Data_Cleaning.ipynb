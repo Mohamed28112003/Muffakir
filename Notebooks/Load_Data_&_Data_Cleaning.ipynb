{
  "nbformat": 4,
  "nbformat_minor": 0,
  "metadata": {
    "colab": {
      "provenance": [],
      "collapsed_sections": [
        "73mpwfX0cGoW"
      ]
    },
    "kernelspec": {
      "name": "python3",
      "display_name": "Python 3"
    },
    "language_info": {
      "name": "python"
    }
  },
  "cells": [
    {
      "cell_type": "code",
      "execution_count": null,
      "metadata": {
        "id": "HpF46XyyXo8z"
      },
      "outputs": [],
      "source": [
        "!pip install langchain\n",
        "!pip install -U langchain-community\n",
        "!pip install \"unstructured[pdf]\"\n"
      ]
    },
    {
      "cell_type": "markdown",
      "source": [
        "# Load & Split Data"
      ],
      "metadata": {
        "id": "oAbekQAscDhH"
      }
    },
    {
      "cell_type": "code",
      "source": [
        "from langchain.document_loaders import DirectoryLoader\n",
        "import re\n",
        "from langchain.text_splitter import RecursiveCharacterTextSplitter\n",
        "from langchain.document_loaders import TextLoader"
      ],
      "metadata": {
        "id": "x8FTPqrDZN2l"
      },
      "execution_count": 1,
      "outputs": []
    },
    {
      "cell_type": "code",
      "source": [
        "\n",
        "\n",
        "data_loader = DirectoryLoader(\"FILE PATH FOR ALL TXT FILES\",\n",
        "                             glob=\"*.txt\",\n",
        "                             show_progress=True)\n"
      ],
      "metadata": {
        "id": "i90g4APXZSLP"
      },
      "execution_count": 2,
      "outputs": []
    },
    {
      "cell_type": "code",
      "source": [
        "text_splitter_recursive = RecursiveCharacterTextSplitter(\n",
        "    chunk_size=1000,  # Adjust chunk size based on content length\n",
        "    chunk_overlap=0,  # No overlap needed\n",
        "    separators=[\"Page number\"]  # Split at answer or next question\n",
        ")"
      ],
      "metadata": {
        "id": "2oB34ICUZjEL"
      },
      "execution_count": 3,
      "outputs": []
    },
    {
      "cell_type": "code",
      "source": [
        "# Load documents from the specified directory\n",
        "data = data_loader.load_and_split(text_splitter=text_splitter_recursive) # Load documents\n",
        "print(f\"Documents : {len(data)}.\")"
      ],
      "metadata": {
        "colab": {
          "base_uri": "https://localhost:8080/"
        },
        "id": "ATSd_GJiZnRe",
        "outputId": "9580344d-41a1-4837-9a9c-29b70563bac0"
      },
      "execution_count": 4,
      "outputs": [
        {
          "output_type": "stream",
          "name": "stderr",
          "text": [
            "100%|██████████| 10/10 [02:57<00:00, 17.74s/it]\n"
          ]
        },
        {
          "output_type": "stream",
          "name": "stdout",
          "text": [
            "Documents : 3391.\n"
          ]
        }
      ]
    },
    {
      "cell_type": "markdown",
      "source": [
        "# Data Cleaning"
      ],
      "metadata": {
        "id": "73mpwfX0cGoW"
      }
    },
    {
      "cell_type": "code",
      "source": [
        "# Remove \"Page number \" from each chunk using regex\n",
        "for i in range(len(data)):\n",
        "  data[i].page_content = re.sub(r\"Page number: \\d+\", \"\", data[i].page_content)"
      ],
      "metadata": {
        "id": "orvtKM9dcGCF"
      },
      "execution_count": 6,
      "outputs": []
    }
  ]
}