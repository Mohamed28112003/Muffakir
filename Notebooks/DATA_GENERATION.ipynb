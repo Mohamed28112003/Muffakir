{
  "nbformat": 4,
  "nbformat_minor": 0,
  "metadata": {
    "colab": {
      "provenance": [],
      "gpuType": "T4",
      "mount_file_id": "https://github.com/Mohamed28112003/Muffakir/blob/main/Notebooks/DATA_GENERATION.ipynb",
      "authorship_tag": "ABX9TyOJSmqIfQEZ/Mc5CUUsaMb8",
      "include_colab_link": true
    },
    "kernelspec": {
      "name": "python3",
      "display_name": "Python 3"
    },
    "language_info": {
      "name": "python"
    },
    "accelerator": "GPU"
  },
  "cells": [
    {
      "cell_type": "markdown",
      "metadata": {
        "id": "view-in-github",
        "colab_type": "text"
      },
      "source": [
        "<a href=\"https://colab.research.google.com/github/Mohamed28112003/Muffakir/blob/main/Notebooks/DATA_GENERATION.ipynb\" target=\"_parent\"><img src=\"https://colab.research.google.com/assets/colab-badge.svg\" alt=\"Open In Colab\"/></a>"
      ]
    },
    {
      "cell_type": "code",
      "execution_count": null,
      "metadata": {
        "id": "s10wH1WwjUpq"
      },
      "outputs": [],
      "source": [
        "!pip install  transformers\n",
        "!pip install -U bitsandbytes\n",
        "!pip install langchain_groq\n",
        "!pip install langchain\n",
        "!pip install -U langchain-community\n",
        "!pip install tiktoken\n"
      ]
    },
    {
      "cell_type": "code",
      "source": [
        "from langchain.text_splitter import RecursiveCharacterTextSplitter, CharacterTextSplitter\n",
        "import pandas as pd\n",
        "from langchain.document_loaders import TextLoader\n",
        "from langchain_groq import ChatGroq\n",
        "import time\n",
        "from langchain.schema import HumanMessage\n",
        "from google.colab import files\n",
        "from langchain.text_splitter import RecursiveCharacterTextSplitter, CharacterTextSplitter\n",
        "from typing import Tuple, List, Dict, Optional, Any\n",
        "from langchain.schema import Document\n",
        "import re"
      ],
      "metadata": {
        "id": "TeZkh-7pORZc"
      },
      "execution_count": 109,
      "outputs": []
    },
    {
      "cell_type": "code",
      "source": [
        "class TextProcessor:\n",
        "\n",
        "    @staticmethod\n",
        "    def split_text_recursive(documents: List[Document], chunk_size: int, chunk_overlap: int):\n",
        "        text_splitter = RecursiveCharacterTextSplitter.from_tiktoken_encoder(\n",
        "            chunk_size=chunk_size, chunk_overlap=chunk_overlap\n",
        "        )\n",
        "        return text_splitter.split_documents(documents)\n",
        "\n",
        "    @staticmethod\n",
        "    def clean_arabic_text(text):\n",
        "        text = re.sub(r'Page number: \\d+', '', text)\n",
        "        text = re.sub(r'- \\d+ -', '', text)\n",
        "        text = re.sub(r'[^؀-ۿ0-9\\s]', '', text)\n",
        "        text = re.sub(r'[^\\w\\s؀-ۿ0-9]', '', text)\n",
        "        text = re.sub(r'\\s+', ' ', text).strip()\n",
        "        return text\n",
        "\n",
        "    @staticmethod\n",
        "    def clean_metadata(metadata):\n",
        "        if 'source' in metadata:\n",
        "            source_path = metadata['source']\n",
        "            filename = source_path.split('/')[-1]\n",
        "            filename_without_extension = re.sub(r'\\.txt$', '', filename)\n",
        "            cleaned_metadata = re.sub(r'_', ' ', filename_without_extension)\n",
        "            return cleaned_metadata\n",
        "        return None\n",
        "\n",
        "    @staticmethod\n",
        "    def process_documents(documents: List[Document], chunk_size: int, chunk_overlap: int):\n",
        "        for doc in documents:\n",
        "            doc.page_content = TextProcessor.clean_arabic_text(doc.page_content)\n",
        "            if isinstance(doc.metadata, dict):\n",
        "                doc.metadata['source'] = TextProcessor.clean_metadata(doc.metadata)\n",
        "\n",
        "        doc_splits = TextProcessor.split_text_recursive(documents, chunk_size, chunk_overlap)\n",
        "\n",
        "        for i, doc in enumerate(doc_splits):\n",
        "            doc.metadata['chunk_id'] = i + 1\n",
        "\n",
        "        return doc_splits\n"
      ],
      "metadata": {
        "id": "6AZ_YK8ax2TV"
      },
      "execution_count": 110,
      "outputs": []
    },
    {
      "cell_type": "markdown",
      "source": [
        "Your final data frame"
      ],
      "metadata": {
        "id": "w76W90_BL4RK"
      }
    },
    {
      "cell_type": "code",
      "source": [
        "final_df = pd.DataFrame()\n"
      ],
      "metadata": {
        "id": "NmZjXh7fLyc6"
      },
      "execution_count": 111,
      "outputs": []
    },
    {
      "cell_type": "code",
      "source": [
        "loader = TextLoader(\"/content/المالية_العامة_الجزء_الثاني_د_رشدي_الموزانة_العامة.txt\")\n",
        "data = loader.load()"
      ],
      "metadata": {
        "id": "dREEjlo-ydgE"
      },
      "execution_count": 112,
      "outputs": []
    },
    {
      "cell_type": "code",
      "source": [
        "text_processor = TextProcessor()\n",
        "processed_docs = text_processor.process_documents(data, chunk_size=600, chunk_overlap=100)\n",
        "processed_docs[0].page_content\n",
        "\n",
        "\n",
        "\n",
        "\n",
        "\n"
      ],
      "metadata": {
        "colab": {
          "base_uri": "https://localhost:8080/",
          "height": 72
        },
        "id": "47AoLdwJouSc",
        "outputId": "c9f84aa6-96ba-4472-ceec-0ff8bd90a399"
      },
      "execution_count": 113,
      "outputs": [
        {
          "output_type": "execute_result",
          "data": {
            "text/plain": [
              "'رقم الصفحه 1 مبادئ المالية العامة الجزء الثاني الموازنة العامة د رشدي إبراهيم السيد أبو كريمه قسم الاقتصاد والمالية العامة كلية الحقوق، جامعة عين شمس ٥١٤٤٦ ٢٠٢٤ م رقم الصفحه 2 الباب الثالث الموازنة العامة 2 رقم الصفحه 3 3 رقم الصفحه 4 مقدمة تلعب الموازنة العامة دورًا محوريًا فى الدراسات الاقتصادية والمالية والاجتماعية والسياسية، حيث تؤدى إلى تحقيق التوازن فى توزيع الدخل القومى بما يحقق العدالة والتوازن الاجتماعى فى المجتمع، وهو ما يواكب نمو الحكومات الديمقراطية اقتصاديًا فتستخدم الموازنة العامة كأداة فعالة فى تحقيق التنمية الاقتصادية وتشجيع الاستثمار، فهى تهدف إلى بحث السبل التى من خلالها أن تؤدى إلى'"
            ],
            "application/vnd.google.colaboratory.intrinsic+json": {
              "type": "string"
            }
          },
          "metadata": {},
          "execution_count": 113
        }
      ]
    },
    {
      "cell_type": "code",
      "source": [
        "\n",
        "#  you can optimize this prompt if you need but keep it with the same format please :)\n",
        "\n",
        "prompt = \"\"\"\n",
        "\n",
        "Based on the following text, generate one Question and its corresponding Answer with detailes.\n",
        "For each question you formulate, provide a comprehensive answer with details immediately following the question,\n",
        "separated by a vertical bar \"|\" provide only 1 questions.\n",
        "If the chunk lacks useful information (e.g., random data, incomplete sentences, or irrelevant content), return none\n",
        "The context to analyze is as follows:  {context} .\n",
        "if there\n",
        "For Example :\n",
        "## Context:\n",
        "البعيد أو الغائي لقانون الإجراءات الجنائية يمثل ذات الهدف بالنسبة لكافة العلوم الجنائية.\n",
        "رابعاً - وظيفة قانون الإجراءات الجنائية:\n",
        "يمكن القول بأن الوظيفة الأساسية لهذا القانون هي تنظيم العدالة الجنائية؛ وتحقيق هذه\n",
        "الغاية يتطلب الموائمة بين اعتبارين. يتمثل الاعتبار الأول في وضع آلية يُمكن من خلالها\n",
        "تفعيل نصوص قانون العقوبات حماية للمصالح الاجتماعية العامة المتعددة، ويتجلى الاعتبار\n",
        "الثاني في ضمان حقوق الفرد وحريته في مواجهة السلطات الإجرائية الجنائية.\n",
        "\n",
        "# Your Response Sholud Be Like This format only do not add any thing else\n",
        "Question : وظيفة قانون الإجراءات الجنائية | يمكن القول بأن الوظيفة الأساسية لهذا القانون هي تنظيم العدالة الجنائية؛ وتحقيق هذه\n",
        "الغاية يتطلب الموائمة بين اعتبارين. يتمثل الاعتبار الأول في وضع آلية يُمكن من خلالها\n",
        "تفعيل نصوص قانون العقوبات حماية للمصالح الاجتماعية العامة المتعددة، ويتجلى الاعتبار\n",
        "الثاني في ضمان حقوق الفرد وحريته في مواجهة السلطات الإجرائية الجنائية.\n",
        "\n",
        "\n",
        "\n",
        "\"\"\""
      ],
      "metadata": {
        "id": "iLUTM7UBs2Fq"
      },
      "execution_count": 114,
      "outputs": []
    },
    {
      "cell_type": "code",
      "source": [
        "list_of_api = [\n",
        "    \"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\",\n",
        "    \"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\",\n",
        "    \"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\",\n",
        "    \" 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\",\n",
        "    \"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\",\n",
        "    \"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\",\n",
        "    \"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\",\n",
        "    \"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\",\n",
        "     \"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\",\n",
        "     \"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\",\n",
        "     \"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\",\n",
        "    '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',\n",
        "    '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',\n",
        "    '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',\n",
        "    \"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\",\n",
        "    \"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\",\n",
        "    \"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\"\n",
        "]\n",
        "\n",
        "# ADD YOUR APIs IN THE HEAD OF THE LIST"
      ],
      "metadata": {
        "id": "udWfbmBOs4yT"
      },
      "execution_count": 115,
      "outputs": []
    },
    {
      "cell_type": "code",
      "source": [
        "def initialize_llm(api_key):\n",
        "    return ChatGroq(\n",
        "        api_key=api_key,\n",
        "        model=\"llama-3.3-70b-versatile\",\n",
        "        temperature=0.7,\n",
        "        #max_tokens=1024\n",
        "    )"
      ],
      "metadata": {
        "id": "agobv6cmOqDl"
      },
      "execution_count": 116,
      "outputs": []
    },
    {
      "cell_type": "code",
      "source": [
        "# Initialize the ChatGroq model with the first API key\n",
        "api_key_index = 0\n",
        "\n",
        "llm = initialize_llm(list_of_api[api_key_index])"
      ],
      "metadata": {
        "id": "ZXQ7FbFPOsV9"
      },
      "execution_count": 117,
      "outputs": []
    },
    {
      "cell_type": "code",
      "source": [
        "results = []\n",
        "i = 0\n",
        "\n",
        "for doc in processed_docs:\n",
        "    Final_prompt = prompt.format(context=doc.page_content)\n",
        "    messages = [HumanMessage(content=Final_prompt)]\n",
        "\n",
        "    while True:\n",
        "        try:\n",
        "            response = llm.invoke(messages)\n",
        "            break\n",
        "\n",
        "        except Exception as e:\n",
        "            error_message = str(e)\n",
        "            print(f\"Encountered an error: {error_message}\")\n",
        "\n",
        "            # Check if it's a rate limit error or service unavailable error\n",
        "            if 'rate limit' in error_message.lower() or '429' in error_message:\n",
        "                print(f\"################################## Rate limit reached for API key ################################## {list_of_api[api_key_index]}. Switching API key...\")\n",
        "                api_key_index = (api_key_index + 1) % len(list_of_api)\n",
        "                llm = initialize_llm(list_of_api[api_key_index])\n",
        "                time.sleep(2)  # Wait before retrying\n",
        "            elif '503' in error_message or 'Service Unavailable' in error_message:\n",
        "                print(\"Service is unavailable, retrying after a delay...\")\n",
        "                time.sleep(5)  # Longer wait time for service errors\n",
        "            else:\n",
        "                # Handle unexpected errors by switching API key\n",
        "                print(f\"Unexpected error. Switching API key: {list_of_api[api_key_index]}\")\n",
        "                api_key_index = (api_key_index + 1) % len(list_of_api)\n",
        "                llm = initialize_llm(list_of_api[api_key_index])\n",
        "                time.sleep(2)  # Small delay before retrying\n",
        "\n",
        "    # Split the response into individual question-answer pairs\n",
        "    qa_pairs = response.content.split(\"Question :\")\n",
        "    print(\"Counter:\", i)\n",
        "    i += 1\n",
        "\n",
        "    for qa in qa_pairs[1:]:  # Skip the first empty part\n",
        "        question_answer = qa.split(\" | \")\n",
        "        if len(question_answer) == 2:\n",
        "            question = question_answer[0].strip()\n",
        "            answer = question_answer[1].strip()\n",
        "            print(\"Question:\", question)\n",
        "            print(\"Answer:\", answer)\n",
        "\n",
        "            results.append({\n",
        "                \"context\": doc.page_content,\n",
        "                \"question\": question,\n",
        "                \"answer\": answer\n",
        "            })\n",
        "\n",
        ""
      ],
      "metadata": {
        "id": "UEZYU3MFt9Op",
        "outputId": "0aec52d6-8d3c-48d0-e501-6deb7492809f",
        "colab": {
          "base_uri": "https://localhost:8080/"
        }
      },
      "execution_count": null,
      "outputs": [
        {
          "output_type": "stream",
          "name": "stdout",
          "text": [
            "Counter: 0\n",
            "Question: دور الموازنة العامة فى المجتمع\n",
            "Answer: تلعب الموازنة العامة دورًا محوريًا فى الدراسات الاقتصادية والمالية والاجتماعية والسياسية، حيث تؤدى إلى تحقيق التوازن فى توزيع الدخل القومى بما يحقق العدالة والتوازن الاجتماعى فى المجتمع، وهو ما يواكب نمو الحكومات الديمقراطية اقتصاديًا فتستخدم الموازنة العامة كأداة فعالة فى تحقيق التنمية الاقتصادية وتشجيع الاستثمار، فهى تهدف إلى بحث السبل التى من خلالها أن تؤدى إلى تحقيق هذه الأهداف.\n",
            "Counter: 1\n",
            "Question: ما هو الغرض من تحقيق التنمية الاقتصادية وتشجيع الاستثمار في الموازنة العامة للدولة\n",
            "Answer: يهدف إلى بحث السبل التى من خلالها أن تؤدى إلى توفير الأموال لتسيير المرافق العامة بإنتظام وأطراد، مع ضرورة الاستخدام الأمثل لهذه الأموال بأقصى كفاءة اقتصادية ممكنة.\n",
            "Counter: 2\n",
            "Question: ما هو مفهوم الموازنة العامة للدولة\n",
            "Answer: تُعرف الموازنة العامة للدولة بأنها بيان تقديرى عن فترة مالية مستقبلية غالبًا ما تكون سنة، توضح الإيرادات .\n",
            "Counter: 3\n",
            "Question: ما هي الموازنة العامة للدولة\n",
            "Answer: هي بيان تقديرى عن فترة مالية مستقبلية غالبًا ما تكون سنة، توضح الإيرادات والنفقات المتوقعة عن فترة مالية مستقبلية، ووفقًا لذلك فإن الموازنة العامة تعتمد على التوقع لإيرادات ونفقات الدولة يتم إعدادها عن طريق السلطة التنفيذية بالدولة، ثم يتم اعتمادها من البرلمان كسلطة تشريعية متمثلة فى مجلس النواب ومما تقدم يمكن استخلاص العناصر التالية أولاً الموازنة العامة توقع وتقدير تعتبر الموازنة العامة بيانًا تقديرًا لما ينتظر أن تحققه الدولة من إيرادات عامة متوقعة، وما ينتظر أن تنفقه من نفقات عامة خلال فترة زمنية مستقبلية غالبًا ما تقدر بسنة واحدة ويتم إعداد الموازنة العامة التقديرية والتنبؤات .\n",
            "Counter: 4\n",
            "Question: من تقوم بإعداد الموازنة العامة للدولة\n",
            "Answer: السلطة التنفيذية تتولى إعداد الموازنة العامة للدولة، حيث أنها أكثر السلطات مقدرة على التوقع للإيرادات والنفقات العامة المتوقع تحقيقها لفترة مالية مستقبلية، باعتبارها السلطة المسئولة عن تولى مهام إدارة الدولة ويكون توقع السلطة التنفيذية للموازنة العامة أقرب ما يمكن للواقع حيث أن توقعاتها تكون مبنية على الأوضاع السياسية والمالية والاقتصادية والاجتماعية السائدة فى الدولة.\n",
            "Counter: 5\n",
            "Question: ماهي الوظيفة الرئيسية للموازنة العامة للدولة\n",
            "Answer: تكون مبنية على الأوضاع السياسية والمالية والاقتصادية والاجتماعية السائدة فى الدولة، حيث تقوم السلطة التنفيذية بزيادة الاعتمادات المخصصة لقطاع معين، وتعتمد السلطة التشريعية على الموازنة العامة بعد عرضها عليها من قبل السلطة التنفيذية، وتهدف إلى تحقيق التوازن بين الإيرادات والنفقات العامة المتوقعة، مع ملاحظة عدم المبالغة فى زيادة الاعتمادات المخصصة لقطاع معين، حيث سيكون ذلك على حساب قطاع آخر.\n",
            "Counter: 6\n",
            "Question: ما هي عملية إقرار الموازنة العامة للدولة المستقبلية\n",
            "Answer: يتم عرض الموازنة العامة على السلطة التشريعية البرلمان مجلس النواب بالدولة لاقرارها والموافقة عليها، ويتم ذلك قبل شهرين على الأقل من بدء السنة المالية ولا تعتبر نافذة إلا بعد موافقته عليها والتصويت على مشروع الموازنة بابًا بابًا، ويتطلب ذلك مناقشات موسعة لكى تطمئن السلطة التشريعية من سلامة الأسس التى بُنيت عليها الموازنة العامة، وبالتالى يمكن القول أن إقرار وموافقة السلطة التشريعية للموازنة العامة للدولة المستقبلية، فإن ذلك يمنحها الشرعية القانونية من خلال اصدار قانون.\n",
            "Counter: 7\n",
            "Question: ما هي السلطة التشريعية للموازنة العامة للدولة المستقبلية\n",
            "Answer: السلطة التشريعية للموازنة العامة للدولة المستقبلية، فإن ذلك يمنحها الشرعية القانونية من خلال اصدار قانون يسمى قانون ربط الميزانية وهذا القانون يُعد أجازة وموافقة من السلطة التشريعية للسلطة التنفيذية بالبدء فى تنفيذ بنود الموازنة العامة مع مراقبة السلطة التشريعية للسلطة التنفيذية بشكل فعال لجميع بنود الموازنة العامة والجدير بالذكر أن هناك اختلافًا جوهريًا بين إجازة البرلمان للموازنة العامة وبين موافقة البرلمان على الموازنة العامة المستقبلية.\n",
            "Counter: 8\n",
            "Question: ما هى أهمية الموازنة العامة للدولة\n",
            "Answer: تحظى الموازنة العامة للدولة بأهمية كبيرة، حيث تمثل إطارًا 工สำหร خطط الحكومة وبرامجها، وتحدد إيراداتها ونفقاتها، وتعطى الحكومة السلطة التنفيذية الحق في تنفيذها أو عدم تنفيذها، كما تقدم الحكومة مشروع الموازنة العامة سنويًا للسلطة التشريعية لإقراره، مما يعني فرض رقابة دائمة من السلطة التشريعية على السلطة التنفيذية في تنفيذ بنود الموازنة العامة.\n",
            "Counter: 9\n",
            "Question: ما هي أهمية الموازنة العامة للدولة\n",
            "Answer: تتمثل أهمية الموازنة العامة للدولة في كونها خطة شاملة لكافة برامج ومشروعات الدولة، وتتضمن أبعادًا اقتصادية ومالية واجتماعية وسياسية، وتتناول أربعة مطالب هي الأهمية السياسية للموازنة العامة، والأهمية الاقتصادية والاجتماعية للموازنة العامة، والأهمية الإدارية والمحاسبية للموازنة العامة، والأهمية القانونية للموازنة العامة.\n",
            "Counter: 10\n",
            "Question: ما هي الأهمية السياسية للموازنة العامة\n",
            "Answer: الأهمية السياسية للموازنة العامة تكمن في أن الموازنة العامة تعبر عن إرادة الأجهزة السياسية العليا في الدولة، وتتضمن أهداف واتجاهات الدولة، وتتماشى مع الحالة السياسية السائدة، وتؤثر في بعض القرارات الاجتماعية والاقتصادية والمالية الموضوعية، مما يعطيها قيمة سياسية على قدر كبير من الأهمية، وتتجاوز كونها مجرد وثيقة تحتوى على الإيرادات والنفقات العامة.\n",
            "Counter: 11\n",
            "Question: ما هي الأهمية الاقتصادية والاجتماعية للموازنة العامة\n",
            "Answer: إن الأهمية التى تحظى بها الموازنة العامة من الوجهتين الاقتصادية والاجتماعية، لا تقل عن الأهمية التى تحظى بها من الوجهة السياسية، مما يبرز دورها فى الحياة الاقتصادية والاجتماعية، وتطور الموازنة العامة تمارس تأثيرًا كبيرًا على طبيعة النظام السياسى واستقراره، ولذلك فإنه توجد علاقة وثيقة الصلة بين البرلمان والموازنة العامة للدولة.\n",
            "Counter: 12\n",
            "Question: ما دور الميزانية العامة في الحياة الاقتصادية والاجتماعية\n",
            "Answer: أصبحت الميزانية العامة أداة مؤثرة فى أدوات السياسية المالية التى تؤثر بشكل فعال على مختلف الجوانب الاقتصادية والاجتماعية، فلم تعد الميزانية العامة أداة سلبية أو محايدة فى تقدير الإيرادات والنفقات العامة فحسب بل أصبح دورها فى العصر الحديث يتجه نحو تحقيق بعض الأهداف الاقتصادية الهامة فى المجتمع، ومن أمثلة ذلك تحقيق العمالة الكاملة، واستغلال الموارد الاقتصادية غير المستخدمة، ورفع مستوى معيشة المواطنين، وزيادة حجم الدخل القومى فمن الناحية الاقتصادية أصبحت الميزانية العامة من أهم الأدوات التى.\n"
          ]
        }
      ]
    },
    {
      "cell_type": "code",
      "source": [
        "\n",
        "# Convert results to a DataFrame\n",
        "df = pd.DataFrame(results)\n"
      ],
      "metadata": {
        "id": "HKlYBS5myVZw"
      },
      "execution_count": 82,
      "outputs": []
    },
    {
      "cell_type": "code",
      "source": [
        "df.head()"
      ],
      "metadata": {
        "id": "chSWnjRWVgwN",
        "outputId": "73c3f9c5-a1e2-4ca2-a557-67c63be0af8a",
        "colab": {
          "base_uri": "https://localhost:8080/",
          "height": 576
        }
      },
      "execution_count": 83,
      "outputs": [
        {
          "output_type": "execute_result",
          "data": {
            "text/plain": [
              "                                             context  \\\n",
              "0  رقم الصفحه 1 مبادئ المالية العامة الجزء الثاني...   \n",
              "1  تحقيق التنمية الاقتصادية وتشجيع الاستثمار، فهى...   \n",
              "2  الخامس أثر تحرير سعر الصرف على تحقيق الاستقرار...   \n",
              "3  الموازنة العامة للدولة بأنها بيان تقديرى عن فت...   \n",
              "4  عامة خلال فترة زمنية مستقبلية غالبًا ما تقدر ب...   \n",
              "\n",
              "                                         question  \\\n",
              "0  دور الموازنة العامة فى تحقيق التوازن الاجتماعى   \n",
              "1              ما هي أهمية الموازنة العامة للدولة   \n",
              "2              ما هو مفهوم الموازنة العامة للدولة   \n",
              "3                    ما هي الموازنة العامة للدولة   \n",
              "4           من تقوم بإعداد الموازنة العامة للدولة   \n",
              "\n",
              "                                              answer  \n",
              "0  تلعب الموازنة العامة دورًا محوريًا فى الدراسات...  \n",
              "1  الموازنة العامة للدولة تهدف إلى بحث السبل التى...  \n",
              "2  تُعرف الموازنة العامة للدولة بأنها بيان تقديرى...  \n",
              "3  هي بيان تقديرى عن فترة مالية مستقبلية غالبًا م...  \n",
              "4  يتم إعداد الموازنة العامة التقديرية والتنبؤات ...  "
            ],
            "text/html": [
              "\n",
              "  <div id=\"df-efbec6fc-3317-4ff8-9999-a81ca82aa775\" class=\"colab-df-container\">\n",
              "    <div>\n",
              "<style scoped>\n",
              "    .dataframe tbody tr th:only-of-type {\n",
              "        vertical-align: middle;\n",
              "    }\n",
              "\n",
              "    .dataframe tbody tr th {\n",
              "        vertical-align: top;\n",
              "    }\n",
              "\n",
              "    .dataframe thead th {\n",
              "        text-align: right;\n",
              "    }\n",
              "</style>\n",
              "<table border=\"1\" class=\"dataframe\">\n",
              "  <thead>\n",
              "    <tr style=\"text-align: right;\">\n",
              "      <th></th>\n",
              "      <th>context</th>\n",
              "      <th>question</th>\n",
              "      <th>answer</th>\n",
              "    </tr>\n",
              "  </thead>\n",
              "  <tbody>\n",
              "    <tr>\n",
              "      <th>0</th>\n",
              "      <td>رقم الصفحه 1 مبادئ المالية العامة الجزء الثاني...</td>\n",
              "      <td>دور الموازنة العامة فى تحقيق التوازن الاجتماعى</td>\n",
              "      <td>تلعب الموازنة العامة دورًا محوريًا فى الدراسات...</td>\n",
              "    </tr>\n",
              "    <tr>\n",
              "      <th>1</th>\n",
              "      <td>تحقيق التنمية الاقتصادية وتشجيع الاستثمار، فهى...</td>\n",
              "      <td>ما هي أهمية الموازنة العامة للدولة</td>\n",
              "      <td>الموازنة العامة للدولة تهدف إلى بحث السبل التى...</td>\n",
              "    </tr>\n",
              "    <tr>\n",
              "      <th>2</th>\n",
              "      <td>الخامس أثر تحرير سعر الصرف على تحقيق الاستقرار...</td>\n",
              "      <td>ما هو مفهوم الموازنة العامة للدولة</td>\n",
              "      <td>تُعرف الموازنة العامة للدولة بأنها بيان تقديرى...</td>\n",
              "    </tr>\n",
              "    <tr>\n",
              "      <th>3</th>\n",
              "      <td>الموازنة العامة للدولة بأنها بيان تقديرى عن فت...</td>\n",
              "      <td>ما هي الموازنة العامة للدولة</td>\n",
              "      <td>هي بيان تقديرى عن فترة مالية مستقبلية غالبًا م...</td>\n",
              "    </tr>\n",
              "    <tr>\n",
              "      <th>4</th>\n",
              "      <td>عامة خلال فترة زمنية مستقبلية غالبًا ما تقدر ب...</td>\n",
              "      <td>من تقوم بإعداد الموازنة العامة للدولة</td>\n",
              "      <td>يتم إعداد الموازنة العامة التقديرية والتنبؤات ...</td>\n",
              "    </tr>\n",
              "  </tbody>\n",
              "</table>\n",
              "</div>\n",
              "    <div class=\"colab-df-buttons\">\n",
              "\n",
              "  <div class=\"colab-df-container\">\n",
              "    <button class=\"colab-df-convert\" onclick=\"convertToInteractive('df-efbec6fc-3317-4ff8-9999-a81ca82aa775')\"\n",
              "            title=\"Convert this dataframe to an interactive table.\"\n",
              "            style=\"display:none;\">\n",
              "\n",
              "  <svg xmlns=\"http://www.w3.org/2000/svg\" height=\"24px\" viewBox=\"0 -960 960 960\">\n",
              "    <path d=\"M120-120v-720h720v720H120Zm60-500h600v-160H180v160Zm220 220h160v-160H400v160Zm0 220h160v-160H400v160ZM180-400h160v-160H180v160Zm440 0h160v-160H620v160ZM180-180h160v-160H180v160Zm440 0h160v-160H620v160Z\"/>\n",
              "  </svg>\n",
              "    </button>\n",
              "\n",
              "  <style>\n",
              "    .colab-df-container {\n",
              "      display:flex;\n",
              "      gap: 12px;\n",
              "    }\n",
              "\n",
              "    .colab-df-convert {\n",
              "      background-color: #E8F0FE;\n",
              "      border: none;\n",
              "      border-radius: 50%;\n",
              "      cursor: pointer;\n",
              "      display: none;\n",
              "      fill: #1967D2;\n",
              "      height: 32px;\n",
              "      padding: 0 0 0 0;\n",
              "      width: 32px;\n",
              "    }\n",
              "\n",
              "    .colab-df-convert:hover {\n",
              "      background-color: #E2EBFA;\n",
              "      box-shadow: 0px 1px 2px rgba(60, 64, 67, 0.3), 0px 1px 3px 1px rgba(60, 64, 67, 0.15);\n",
              "      fill: #174EA6;\n",
              "    }\n",
              "\n",
              "    .colab-df-buttons div {\n",
              "      margin-bottom: 4px;\n",
              "    }\n",
              "\n",
              "    [theme=dark] .colab-df-convert {\n",
              "      background-color: #3B4455;\n",
              "      fill: #D2E3FC;\n",
              "    }\n",
              "\n",
              "    [theme=dark] .colab-df-convert:hover {\n",
              "      background-color: #434B5C;\n",
              "      box-shadow: 0px 1px 3px 1px rgba(0, 0, 0, 0.15);\n",
              "      filter: drop-shadow(0px 1px 2px rgba(0, 0, 0, 0.3));\n",
              "      fill: #FFFFFF;\n",
              "    }\n",
              "  </style>\n",
              "\n",
              "    <script>\n",
              "      const buttonEl =\n",
              "        document.querySelector('#df-efbec6fc-3317-4ff8-9999-a81ca82aa775 button.colab-df-convert');\n",
              "      buttonEl.style.display =\n",
              "        google.colab.kernel.accessAllowed ? 'block' : 'none';\n",
              "\n",
              "      async function convertToInteractive(key) {\n",
              "        const element = document.querySelector('#df-efbec6fc-3317-4ff8-9999-a81ca82aa775');\n",
              "        const dataTable =\n",
              "          await google.colab.kernel.invokeFunction('convertToInteractive',\n",
              "                                                    [key], {});\n",
              "        if (!dataTable) return;\n",
              "\n",
              "        const docLinkHtml = 'Like what you see? Visit the ' +\n",
              "          '<a target=\"_blank\" href=https://colab.research.google.com/notebooks/data_table.ipynb>data table notebook</a>'\n",
              "          + ' to learn more about interactive tables.';\n",
              "        element.innerHTML = '';\n",
              "        dataTable['output_type'] = 'display_data';\n",
              "        await google.colab.output.renderOutput(dataTable, element);\n",
              "        const docLink = document.createElement('div');\n",
              "        docLink.innerHTML = docLinkHtml;\n",
              "        element.appendChild(docLink);\n",
              "      }\n",
              "    </script>\n",
              "  </div>\n",
              "\n",
              "\n",
              "<div id=\"df-0cf1cb5c-2772-43c8-bba5-144194f7bf0b\">\n",
              "  <button class=\"colab-df-quickchart\" onclick=\"quickchart('df-0cf1cb5c-2772-43c8-bba5-144194f7bf0b')\"\n",
              "            title=\"Suggest charts\"\n",
              "            style=\"display:none;\">\n",
              "\n",
              "<svg xmlns=\"http://www.w3.org/2000/svg\" height=\"24px\"viewBox=\"0 0 24 24\"\n",
              "     width=\"24px\">\n",
              "    <g>\n",
              "        <path d=\"M19 3H5c-1.1 0-2 .9-2 2v14c0 1.1.9 2 2 2h14c1.1 0 2-.9 2-2V5c0-1.1-.9-2-2-2zM9 17H7v-7h2v7zm4 0h-2V7h2v10zm4 0h-2v-4h2v4z\"/>\n",
              "    </g>\n",
              "</svg>\n",
              "  </button>\n",
              "\n",
              "<style>\n",
              "  .colab-df-quickchart {\n",
              "      --bg-color: #E8F0FE;\n",
              "      --fill-color: #1967D2;\n",
              "      --hover-bg-color: #E2EBFA;\n",
              "      --hover-fill-color: #174EA6;\n",
              "      --disabled-fill-color: #AAA;\n",
              "      --disabled-bg-color: #DDD;\n",
              "  }\n",
              "\n",
              "  [theme=dark] .colab-df-quickchart {\n",
              "      --bg-color: #3B4455;\n",
              "      --fill-color: #D2E3FC;\n",
              "      --hover-bg-color: #434B5C;\n",
              "      --hover-fill-color: #FFFFFF;\n",
              "      --disabled-bg-color: #3B4455;\n",
              "      --disabled-fill-color: #666;\n",
              "  }\n",
              "\n",
              "  .colab-df-quickchart {\n",
              "    background-color: var(--bg-color);\n",
              "    border: none;\n",
              "    border-radius: 50%;\n",
              "    cursor: pointer;\n",
              "    display: none;\n",
              "    fill: var(--fill-color);\n",
              "    height: 32px;\n",
              "    padding: 0;\n",
              "    width: 32px;\n",
              "  }\n",
              "\n",
              "  .colab-df-quickchart:hover {\n",
              "    background-color: var(--hover-bg-color);\n",
              "    box-shadow: 0 1px 2px rgba(60, 64, 67, 0.3), 0 1px 3px 1px rgba(60, 64, 67, 0.15);\n",
              "    fill: var(--button-hover-fill-color);\n",
              "  }\n",
              "\n",
              "  .colab-df-quickchart-complete:disabled,\n",
              "  .colab-df-quickchart-complete:disabled:hover {\n",
              "    background-color: var(--disabled-bg-color);\n",
              "    fill: var(--disabled-fill-color);\n",
              "    box-shadow: none;\n",
              "  }\n",
              "\n",
              "  .colab-df-spinner {\n",
              "    border: 2px solid var(--fill-color);\n",
              "    border-color: transparent;\n",
              "    border-bottom-color: var(--fill-color);\n",
              "    animation:\n",
              "      spin 1s steps(1) infinite;\n",
              "  }\n",
              "\n",
              "  @keyframes spin {\n",
              "    0% {\n",
              "      border-color: transparent;\n",
              "      border-bottom-color: var(--fill-color);\n",
              "      border-left-color: var(--fill-color);\n",
              "    }\n",
              "    20% {\n",
              "      border-color: transparent;\n",
              "      border-left-color: var(--fill-color);\n",
              "      border-top-color: var(--fill-color);\n",
              "    }\n",
              "    30% {\n",
              "      border-color: transparent;\n",
              "      border-left-color: var(--fill-color);\n",
              "      border-top-color: var(--fill-color);\n",
              "      border-right-color: var(--fill-color);\n",
              "    }\n",
              "    40% {\n",
              "      border-color: transparent;\n",
              "      border-right-color: var(--fill-color);\n",
              "      border-top-color: var(--fill-color);\n",
              "    }\n",
              "    60% {\n",
              "      border-color: transparent;\n",
              "      border-right-color: var(--fill-color);\n",
              "    }\n",
              "    80% {\n",
              "      border-color: transparent;\n",
              "      border-right-color: var(--fill-color);\n",
              "      border-bottom-color: var(--fill-color);\n",
              "    }\n",
              "    90% {\n",
              "      border-color: transparent;\n",
              "      border-bottom-color: var(--fill-color);\n",
              "    }\n",
              "  }\n",
              "</style>\n",
              "\n",
              "  <script>\n",
              "    async function quickchart(key) {\n",
              "      const quickchartButtonEl =\n",
              "        document.querySelector('#' + key + ' button');\n",
              "      quickchartButtonEl.disabled = true;  // To prevent multiple clicks.\n",
              "      quickchartButtonEl.classList.add('colab-df-spinner');\n",
              "      try {\n",
              "        const charts = await google.colab.kernel.invokeFunction(\n",
              "            'suggestCharts', [key], {});\n",
              "      } catch (error) {\n",
              "        console.error('Error during call to suggestCharts:', error);\n",
              "      }\n",
              "      quickchartButtonEl.classList.remove('colab-df-spinner');\n",
              "      quickchartButtonEl.classList.add('colab-df-quickchart-complete');\n",
              "    }\n",
              "    (() => {\n",
              "      let quickchartButtonEl =\n",
              "        document.querySelector('#df-0cf1cb5c-2772-43c8-bba5-144194f7bf0b button');\n",
              "      quickchartButtonEl.style.display =\n",
              "        google.colab.kernel.accessAllowed ? 'block' : 'none';\n",
              "    })();\n",
              "  </script>\n",
              "</div>\n",
              "\n",
              "    </div>\n",
              "  </div>\n"
            ],
            "application/vnd.google.colaboratory.intrinsic+json": {
              "type": "dataframe",
              "variable_name": "df",
              "summary": "{\n  \"name\": \"df\",\n  \"rows\": 14,\n  \"fields\": [\n    {\n      \"column\": \"context\",\n      \"properties\": {\n        \"dtype\": \"string\",\n        \"num_unique_values\": 14,\n        \"samples\": [\n          \"\\u0641\\u0649 \\u062a\\u0646\\u0641\\u064a\\u0630 \\u0627\\u0644\\u0623\\u062e\\u064a\\u0631\\u0629 \\u0644\\u0628\\u0646\\u0648\\u062f \\u0627\\u0644\\u0645\\u0648\\u0627\\u0632\\u0646\\u0629 \\u0627\\u0644\\u0639\\u0627\\u0645\\u0629 8 \\u0631\\u0642\\u0645 \\u0627\\u0644\\u0635\\u0641\\u062d\\u0647 9 \\u0627\\u0644\\u0645\\u0628\\u062d\\u062b \\u0627\\u0644\\u062b\\u0627\\u0646\\u064a \\u0623\\u0647\\u0645\\u064a\\u0629 \\u0627\\u0644\\u0645\\u0648\\u0627\\u0632\\u0646\\u0629 \\u0627\\u0644\\u0639\\u0627\\u0645\\u0629 \\u0644\\u0644\\u062f\\u0648\\u0644\\u0629 \\u062a\\u062d\\u0638\\u0649 \\u0627\\u0644\\u0645\\u0648\\u0627\\u0632\\u0646\\u0629 \\u0627\\u0644\\u0639\\u0627\\u0645\\u0629 \\u0644\\u0644\\u062f\\u0648\\u0644\\u0629 \\u0641\\u0649 \\u0627\\u0644\\u0639\\u0635\\u0631 \\u0627\\u0644\\u062d\\u062f\\u064a\\u062b \\u0628\\u0623\\u0647\\u0645\\u064a\\u0629 \\u0628\\u0627\\u0644\\u063a\\u0629\\u060c \\u062d\\u064a\\u062b \\u062a\\u062a\\u0636\\u0645\\u0646 \\u0623\\u0628\\u0639\\u0627\\u062f\\u064b\\u0627 \\u0627\\u0642\\u062a\\u0635\\u0627\\u062f\\u064a\\u0629 \\u0648\\u0645\\u0627\\u0644\\u064a\\u0629 \\u0648\\u0627\\u062c\\u062a\\u0645\\u0627\\u0639\\u064a\\u0629 \\u0648\\u0633\\u064a\\u0627\\u0633\\u064a\\u0629\\u060c \\u0641\\u0647\\u0649 \\u0628\\u0645\\u062b\\u0627\\u0628\\u0629 \\u062e\\u0637\\u0629 \\u0634\\u0627\\u0645\\u0644\\u0629 \\u0644\\u0643\\u0627\\u0641\\u0629 \\u0628\\u0631\\u0627\\u0645\\u062c \\u0648\\u0645\\u0634\\u0631\\u0648\\u0639\\u0627\\u062a \\u0627\\u0644\\u062f\\u0648\\u0644\\u0629 \\u0648\\u0628\\u0646\\u0627\\u0621\\u064b \\u0639\\u0644\\u0649 \\u0645\\u0627 \\u062a\\u0642\\u062f\\u0645 \\u0641\\u0625\\u0646\\u0646\\u0627 \\u0633\\u0648\\u0641 \\u0646\\u062a\\u0646\\u0627\\u0648\\u0644 \\u0647\\u0630\\u0627 \\u0627\\u0644\\u0645\\u0628\\u062d\\u062b \\u0645\\u0646 \\u062e\\u0644\\u0627\\u0644 \\u0623\\u0631\\u0628\\u0639\\u0629 \\u0645\\u0637\\u0627\\u0644\\u0628 \\u0639\\u0644\\u0649 \\u0627\\u0644\\u0646\\u062d\\u0648 \\u0627\\u0644\\u062a\\u0627\\u0644\\u0649 \\u0627\\u0644\\u0645\\u0637\\u0644\\u0628 \\u0627\\u0644\\u0623\\u0648\\u0644 \\u0627\\u0644\\u0623\\u0647\\u0645\\u064a\\u0629 \\u0627\\u0644\\u0633\\u064a\\u0627\\u0633\\u064a\\u0629 \\u0644\\u0644\\u0645\\u0648\\u0627\\u0632\\u0646\\u0629 \\u0627\\u0644\\u0639\\u0627\\u0645\\u0629 \\u0627\\u0644\\u0645\\u0637\\u0644\\u0628 \\u0627\\u0644\\u062b\\u0627\\u0646\\u0649 \\u0627\\u0644\\u0623\\u0647\\u0645\\u064a\\u0629 \\u0627\\u0644\\u0627\\u0642\\u062a\\u0635\\u0627\\u062f\\u064a\\u0629 \\u0648\\u0627\\u0644\\u0627\\u062c\\u062a\\u0645\\u0627\\u0639\\u064a\\u0629 \\u0644\\u0644\\u0645\\u0648\\u0627\\u0632\\u0646\\u0629 \\u0627\\u0644\\u0639\\u0627\\u0645\\u0629 \\u0627\\u0644\\u0645\\u0637\\u0644\\u0628 \\u0627\\u0644\\u062b\\u0627\\u0644\\u062b \\u0627\\u0644\\u0623\\u0647\\u0645\\u064a\\u0629 \\u0627\\u0644\\u0625\\u062f\\u0627\\u0631\\u064a\\u0629 \\u0648\\u0627\\u0644\\u0645\\u062d\\u0627\\u0633\\u0628\\u064a\\u0629 \\u0644\\u0644\\u0645\\u0648\\u0627\\u0632\\u0646\\u0629 \\u0627\\u0644\\u0639\\u0627\\u0645\\u0629 \\u0627\\u0644\\u0645\\u0637\\u0644\\u0628 \\u0627\\u0644\\u0631\\u0627\\u0628\\u0639 \\u0627\\u0644\\u0623\\u0647\\u0645\\u064a\\u0629 \\u0627\\u0644\\u0642\\u0627\\u0646\\u0648\\u0646\\u064a\\u0629 \\u0644\\u0644\\u0645\\u0648\\u0627\\u0632\\u0646\\u0629 \\u0627\\u0644\\u0639\\u0627\\u0645\\u0629 9 \\u0631\\u0642\\u0645 \\u0627\\u0644\\u0635\\u0641\\u062d\\u0647 10 \\u0627\\u0644\\u0645\\u0637\\u0644\\u0628 \\u0627\\u0644\\u0623\\u0648\\u0644 \\u0627\\u0644\\u0623\\u0647\\u0645\\u064a\\u0629 \\u0627\\u0644\\u0633\\u064a\\u0627\\u0633\\u064a\\u0629 \\u0644\\u0644\\u0645\\u0648\\u0627\\u0632\\u0646\\u0629 \\u0627\\u0644\\u0639\\u0627\\u0645\\u0629 \\u062a\\u062e\\u0636\\u0639 \\u0627\\u0644\\u0645\\u0648\\u0627\\u0632\\u0646\\u0629 \\u0627\\u0644\\u0639\\u0627\\u0645\\u0629\",\n          \"\\u0627\\u0644\\u0633\\u064a\\u0627\\u0633\\u064a\\u0629 \\u0642\\u062f \\u062a\\u064f\\u0639\\u062f\\u0644 \\u0623\\u062d\\u064a\\u0627\\u0646\\u064b\\u0627 \\u0628\\u0639\\u0636 \\u0627\\u0644\\u0642\\u0631\\u0627\\u0631\\u0627\\u062a \\u0627\\u0644\\u0627\\u062c\\u062a\\u0645\\u0627\\u0639\\u064a\\u0629 \\u0648\\u0627\\u0644\\u0627\\u0642\\u062a\\u0635\\u0627\\u062f\\u064a\\u0629 \\u0648\\u0627\\u0644\\u0645\\u0627\\u0644\\u064a\\u0629 \\u0627\\u0644\\u0645\\u0648\\u0636\\u0648\\u0639\\u064a\\u0629\\u060c \\u0648\\u0630\\u0644\\u0643 \\u0645\\u0631\\u0627\\u0639\\u0627\\u0629\\u064b \\u0644\\u0628\\u0639\\u0636 \\u0627\\u0644\\u0638\\u0631\\u0648\\u0641 \\u0627\\u0644\\u0633\\u064a\\u0627\\u0633\\u064a\\u0629\\u0661 \\u0648\\u0645\\u0645\\u0627 \\u0647\\u0648 \\u062c\\u062f\\u064a\\u0631 \\u0628\\u0627\\u0644\\u0630\\u0643\\u0631 \\u0623\\u0646 \\u0627\\u0644\\u0645\\u0648\\u0627\\u0632\\u0646\\u0629 \\u0627\\u0644\\u0639\\u0627\\u0645\\u0629 \\u062a\\u0645\\u0627\\u0631\\u0633 \\u062a\\u0623\\u062b\\u064a\\u0631\\u064b\\u0627 \\u0643\\u0628\\u064a\\u0631\\u064b\\u0627 \\u0639\\u0644\\u0649 \\u0637\\u0628\\u064a\\u0639\\u0629 \\u0627\\u0644\\u0646\\u0638\\u0627\\u0645 \\u0627\\u0644\\u0633\\u064a\\u0627\\u0633\\u0649 \\u0648\\u0627\\u0633\\u062a\\u0642\\u0631\\u0627\\u0631\\u0647\\u060c \\u0648\\u0644\\u0630\\u0644\\u0643 \\u0641\\u0625\\u0646\\u0647 \\u062a\\u0648\\u062c\\u062f \\u0639\\u0644\\u0627\\u0642\\u0629 \\u0648\\u062b\\u064a\\u0642\\u0629 \\u0627\\u0644\\u0635\\u0644\\u0629 \\u0628\\u064a\\u0646 \\u0627\\u0644\\u0628\\u0631\\u0644\\u0645\\u0627\\u0646 \\u0648\\u0627\\u0644\\u0645\\u0648\\u0627\\u0632\\u0646\\u0629 \\u0627\\u0644\\u0639\\u0627\\u0645\\u0629 \\u0644\\u0644\\u062f\\u0648\\u0644\\u0629 \\u0661 \\u0631\\u0627\\u062c\\u0639 \\u0623 \\u062f \\u0635\\u0641\\u0648\\u062a \\u0639\\u0628\\u062f \\u0627\\u0644\\u0633\\u0644\\u0627\\u0645 \\u0639\\u0648\\u0636 \\u0627\\u0644\\u0644\\u0647\\u060c \\u0639\\u0644\\u0645 \\u0627\\u0644\\u0645\\u0627\\u0644\\u064a\\u0629 \\u0627\\u0644\\u0639\\u0627\\u0645\\u0629\\u060c \\u0645\\u0631\\u062c\\u0639 \\u0633\\u0627\\u0628\\u0642\\u060c \\u0635\\u0662\\u0667\\u0668 10 \\u0631\\u0642\\u0645 \\u0627\\u0644\\u0635\\u0641\\u062d\\u0647 11 \\u0627\\u0644\\u0645\\u0637\\u0644\\u0628 \\u0627\\u0644\\u062b\\u0627\\u0646\\u064a \\u0627\\u0644\\u0623\\u0647\\u0645\\u064a\\u0629 \\u0627\\u0644\\u0627\\u0642\\u062a\\u0635\\u0627\\u062f\\u064a\\u0629 \\u0648\\u0627\\u0644\\u0627\\u062c\\u062a\\u0645\\u0627\\u0639\\u064a\\u0629 \\u0644\\u0644\\u0645\\u0648\\u0627\\u0632\\u0646\\u0629 \\u0627\\u0644\\u0639\\u0627\\u0645\\u0629 \\u0625\\u0646 \\u0627\\u0644\\u0623\\u0647\\u0645\\u064a\\u0629 \\u0627\\u0644\\u062a\\u0649 \\u062a\\u062d\\u0638\\u0649 \\u0628\\u0647\\u0627 \\u0627\\u0644\\u0645\\u0648\\u0627\\u0632\\u0646\\u0629 \\u0627\\u0644\\u0639\\u0627\\u0645\\u0629 \\u0645\\u0646 \\u0627\\u0644\\u0648\\u062c\\u0647\\u062a\\u064a\\u0646 \\u0627\\u0644\\u0627\\u0642\\u062a\\u0635\\u0627\\u062f\\u064a\\u0629 \\u0648\\u0627\\u0644\\u0627\\u062c\\u062a\\u0645\\u0627\\u0639\\u064a\\u0629\\u060c \\u0644\\u0627 \\u062a\\u0642\\u0644 \\u0639\\u0646 \\u0627\\u0644\\u0623\\u0647\\u0645\\u064a\\u0629 \\u0627\\u0644\\u062a\\u0649 \\u062a\\u062d\\u0638\\u0649 \\u0628\\u0647\\u0627 \\u0645\\u0646 \\u0627\\u0644\\u0648\\u062c\\u0647\\u0629 \\u0627\\u0644\\u0633\\u064a\\u0627\\u0633\\u064a\\u0629\\u060c \\u0645\\u0645\\u0627 \\u064a\\u0628\\u0631\\u0632 \\u062f\\u0648\\u0631\\u0647\\u0627 \\u0641\\u0649 \\u0627\\u0644\\u062d\\u064a\\u0627\\u0629 \\u0627\\u0644\\u0627\\u0642\\u062a\\u0635\\u0627\\u062f\\u064a\\u0629 \\u0648\\u0627\\u0644\\u0627\\u062c\\u062a\\u0645\\u0627\\u0639\\u064a\\u0629\\u060c \\u0648\\u062a\\u0637\\u0648\\u0631\",\n          \"\\u0631\\u0642\\u0645 \\u0627\\u0644\\u0635\\u0641\\u062d\\u0647 1 \\u0645\\u0628\\u0627\\u062f\\u0626 \\u0627\\u0644\\u0645\\u0627\\u0644\\u064a\\u0629 \\u0627\\u0644\\u0639\\u0627\\u0645\\u0629 \\u0627\\u0644\\u062c\\u0632\\u0621 \\u0627\\u0644\\u062b\\u0627\\u0646\\u064a \\u0627\\u0644\\u0645\\u0648\\u0627\\u0632\\u0646\\u0629 \\u0627\\u0644\\u0639\\u0627\\u0645\\u0629 \\u062f \\u0631\\u0634\\u062f\\u064a \\u0625\\u0628\\u0631\\u0627\\u0647\\u064a\\u0645 \\u0627\\u0644\\u0633\\u064a\\u062f \\u0623\\u0628\\u0648 \\u0643\\u0631\\u064a\\u0645\\u0647 \\u0642\\u0633\\u0645 \\u0627\\u0644\\u0627\\u0642\\u062a\\u0635\\u0627\\u062f \\u0648\\u0627\\u0644\\u0645\\u0627\\u0644\\u064a\\u0629 \\u0627\\u0644\\u0639\\u0627\\u0645\\u0629 \\u0643\\u0644\\u064a\\u0629 \\u0627\\u0644\\u062d\\u0642\\u0648\\u0642\\u060c \\u062c\\u0627\\u0645\\u0639\\u0629 \\u0639\\u064a\\u0646 \\u0634\\u0645\\u0633 \\u0665\\u0661\\u0664\\u0664\\u0666 \\u0662\\u0660\\u0662\\u0664 \\u0645 \\u0631\\u0642\\u0645 \\u0627\\u0644\\u0635\\u0641\\u062d\\u0647 2 \\u0627\\u0644\\u0628\\u0627\\u0628 \\u0627\\u0644\\u062b\\u0627\\u0644\\u062b \\u0627\\u0644\\u0645\\u0648\\u0627\\u0632\\u0646\\u0629 \\u0627\\u0644\\u0639\\u0627\\u0645\\u0629 2 \\u0631\\u0642\\u0645 \\u0627\\u0644\\u0635\\u0641\\u062d\\u0647 3 3 \\u0631\\u0642\\u0645 \\u0627\\u0644\\u0635\\u0641\\u062d\\u0647 4 \\u0645\\u0642\\u062f\\u0645\\u0629 \\u062a\\u0644\\u0639\\u0628 \\u0627\\u0644\\u0645\\u0648\\u0627\\u0632\\u0646\\u0629 \\u0627\\u0644\\u0639\\u0627\\u0645\\u0629 \\u062f\\u0648\\u0631\\u064b\\u0627 \\u0645\\u062d\\u0648\\u0631\\u064a\\u064b\\u0627 \\u0641\\u0649 \\u0627\\u0644\\u062f\\u0631\\u0627\\u0633\\u0627\\u062a \\u0627\\u0644\\u0627\\u0642\\u062a\\u0635\\u0627\\u062f\\u064a\\u0629 \\u0648\\u0627\\u0644\\u0645\\u0627\\u0644\\u064a\\u0629 \\u0648\\u0627\\u0644\\u0627\\u062c\\u062a\\u0645\\u0627\\u0639\\u064a\\u0629 \\u0648\\u0627\\u0644\\u0633\\u064a\\u0627\\u0633\\u064a\\u0629\\u060c \\u062d\\u064a\\u062b \\u062a\\u0624\\u062f\\u0649 \\u0625\\u0644\\u0649 \\u062a\\u062d\\u0642\\u064a\\u0642 \\u0627\\u0644\\u062a\\u0648\\u0627\\u0632\\u0646 \\u0641\\u0649 \\u062a\\u0648\\u0632\\u064a\\u0639 \\u0627\\u0644\\u062f\\u062e\\u0644 \\u0627\\u0644\\u0642\\u0648\\u0645\\u0649 \\u0628\\u0645\\u0627 \\u064a\\u062d\\u0642\\u0642 \\u0627\\u0644\\u0639\\u062f\\u0627\\u0644\\u0629 \\u0648\\u0627\\u0644\\u062a\\u0648\\u0627\\u0632\\u0646 \\u0627\\u0644\\u0627\\u062c\\u062a\\u0645\\u0627\\u0639\\u0649 \\u0641\\u0649 \\u0627\\u0644\\u0645\\u062c\\u062a\\u0645\\u0639\\u060c \\u0648\\u0647\\u0648 \\u0645\\u0627 \\u064a\\u0648\\u0627\\u0643\\u0628 \\u0646\\u0645\\u0648 \\u0627\\u0644\\u062d\\u0643\\u0648\\u0645\\u0627\\u062a \\u0627\\u0644\\u062f\\u064a\\u0645\\u0642\\u0631\\u0627\\u0637\\u064a\\u0629 \\u0627\\u0642\\u062a\\u0635\\u0627\\u062f\\u064a\\u064b\\u0627 \\u0641\\u062a\\u0633\\u062a\\u062e\\u062f\\u0645 \\u0627\\u0644\\u0645\\u0648\\u0627\\u0632\\u0646\\u0629 \\u0627\\u0644\\u0639\\u0627\\u0645\\u0629 \\u0643\\u0623\\u062f\\u0627\\u0629 \\u0641\\u0639\\u0627\\u0644\\u0629 \\u0641\\u0649 \\u062a\\u062d\\u0642\\u064a\\u0642 \\u0627\\u0644\\u062a\\u0646\\u0645\\u064a\\u0629 \\u0627\\u0644\\u0627\\u0642\\u062a\\u0635\\u0627\\u062f\\u064a\\u0629 \\u0648\\u062a\\u0634\\u062c\\u064a\\u0639 \\u0627\\u0644\\u0627\\u0633\\u062a\\u062b\\u0645\\u0627\\u0631\\u060c \\u0641\\u0647\\u0649 \\u062a\\u0647\\u062f\\u0641 \\u0625\\u0644\\u0649 \\u0628\\u062d\\u062b \\u0627\\u0644\\u0633\\u0628\\u0644 \\u0627\\u0644\\u062a\\u0649 \\u0645\\u0646 \\u062e\\u0644\\u0627\\u0644\\u0647\\u0627 \\u0623\\u0646 \\u062a\\u0624\\u062f\\u0649 \\u0625\\u0644\\u0649\"\n        ],\n        \"semantic_type\": \"\",\n        \"description\": \"\"\n      }\n    },\n    {\n      \"column\": \"question\",\n      \"properties\": {\n        \"dtype\": \"string\",\n        \"num_unique_values\": 14,\n        \"samples\": [\n          \"\\u0645\\u0627 \\u0647\\u0649 \\u0623\\u0647\\u0645\\u064a\\u0629 \\u0627\\u0644\\u0645\\u0648\\u0627\\u0632\\u0646\\u0629 \\u0627\\u0644\\u0639\\u0627\\u0645\\u0629 \\u0644\\u0644\\u062f\\u0648\\u0644\\u0629\",\n          \"\\u0645\\u0627 \\u0647\\u064a \\u0627\\u0644\\u0623\\u0647\\u0645\\u064a\\u0629 \\u0627\\u0644\\u0627\\u0642\\u062a\\u0635\\u0627\\u062f\\u064a\\u0629 \\u0648\\u0627\\u0644\\u0627\\u062c\\u062a\\u0645\\u0627\\u0639\\u064a\\u0629 \\u0644\\u0644\\u0645\\u0648\\u0627\\u0632\\u0646\\u0629 \\u0627\\u0644\\u0639\\u0627\\u0645\\u0629\",\n          \"\\u062f\\u0648\\u0631 \\u0627\\u0644\\u0645\\u0648\\u0627\\u0632\\u0646\\u0629 \\u0627\\u0644\\u0639\\u0627\\u0645\\u0629 \\u0641\\u0649 \\u062a\\u062d\\u0642\\u064a\\u0642 \\u0627\\u0644\\u062a\\u0648\\u0627\\u0632\\u0646 \\u0627\\u0644\\u0627\\u062c\\u062a\\u0645\\u0627\\u0639\\u0649\"\n        ],\n        \"semantic_type\": \"\",\n        \"description\": \"\"\n      }\n    },\n    {\n      \"column\": \"answer\",\n      \"properties\": {\n        \"dtype\": \"string\",\n        \"num_unique_values\": 14,\n        \"samples\": [\n          \"\\u062a\\u062a\\u0636\\u0645\\u0646 \\u0623\\u0628\\u0639\\u0627\\u062f\\u064b\\u0627 \\u0627\\u0642\\u062a\\u0635\\u0627\\u062f\\u064a\\u0629 \\u0648\\u0645\\u0627\\u0644\\u064a\\u0629 \\u0648\\u0627\\u062c\\u062a\\u0645\\u0627\\u0639\\u064a\\u0629 \\u0648\\u0633\\u064a\\u0627\\u0633\\u064a\\u0629\\u060c \\u0641\\u0647\\u0649 \\u0628\\u0645\\u062b\\u0627\\u0628\\u0629 \\u062e\\u0637\\u0629 \\u0634\\u0627\\u0645\\u0644\\u0629 \\u0644\\u0643\\u0627\\u0641\\u0629 \\u0628\\u0631\\u0627\\u0645\\u062c \\u0648\\u0645\\u0634\\u0631\\u0648\\u0639\\u0627\\u062a \\u0627\\u0644\\u062f\\u0648\\u0644\\u0629\\u060c \\u0648\\u062a\\u062a\\u0636\\u0645\\u0646 \\u0623\\u0631\\u0628\\u0639\\u0629 \\u0645\\u0637\\u0627\\u0644\\u0628 \\u0647\\u0649 \\u0627\\u0644\\u0623\\u0647\\u0645\\u064a\\u0629 \\u0627\\u0644\\u0633\\u064a\\u0627\\u0633\\u064a\\u0629\\u060c \\u0627\\u0644\\u0623\\u0647\\u0645\\u064a\\u0629 \\u0627\\u0644\\u0627\\u0642\\u062a\\u0635\\u0627\\u062f\\u064a\\u0629 \\u0648\\u0627\\u0644\\u0627\\u062c\\u062a\\u0645\\u0627\\u0639\\u064a\\u0629\\u060c \\u0627\\u0644\\u0623\\u0647\\u0645\\u064a\\u0629 \\u0627\\u0644\\u0625\\u062f\\u0627\\u0631\\u064a\\u0629 \\u0648\\u0627\\u0644\\u0645\\u062d\\u0627\\u0633\\u0628\\u064a\\u0629\\u060c \\u0648\\u0627\\u0644\\u0623\\u0647\\u0645\\u064a\\u0629 \\u0627\\u0644\\u0642\\u0627\\u0646\\u0648\\u0646\\u064a\\u0629 \\u0644\\u0644\\u0645\\u0648\\u0627\\u0632\\u0646\\u0629 \\u0627\\u0644\\u0639\\u0627\\u0645\\u0629.\",\n          \"\\u0625\\u0646 \\u0627\\u0644\\u0623\\u0647\\u0645\\u064a\\u0629 \\u0627\\u0644\\u062a\\u0649 \\u062a\\u062d\\u0638\\u0649 \\u0628\\u0647\\u0627 \\u0627\\u0644\\u0645\\u0648\\u0627\\u0632\\u0646\\u0629 \\u0627\\u0644\\u0639\\u0627\\u0645\\u0629 \\u0645\\u0646 \\u0627\\u0644\\u0648\\u062c\\u0647\\u062a\\u064a\\u0646 \\u0627\\u0644\\u0627\\u0642\\u062a\\u0635\\u0627\\u062f\\u064a\\u0629 \\u0648\\u0627\\u0644\\u0627\\u062c\\u062a\\u0645\\u0627\\u0639\\u064a\\u0629\\u060c \\u0644\\u0627 \\u062a\\u0642\\u0644 \\u0639\\u0646 \\u0627\\u0644\\u0623\\u0647\\u0645\\u064a\\u0629 \\u0627\\u0644\\u062a\\u0649 \\u062a\\u062d\\u0638\\u0649 \\u0628\\u0647\\u0627 \\u0645\\u0646 \\u0627\\u0644\\u0648\\u062c\\u0647\\u0629 \\u0627\\u0644\\u0633\\u064a\\u0627\\u0633\\u064a\\u0629\\u060c \\u0645\\u0645\\u0627 \\u064a\\u0628\\u0631\\u0632 \\u062f\\u0648\\u0631\\u0647\\u0627 \\u0641\\u0649 \\u0627\\u0644\\u062d\\u064a\\u0627\\u0629 \\u0627\\u0644\\u0627\\u0642\\u062a\\u0635\\u0627\\u062f\\u064a\\u0629 \\u0648\\u0627\\u0644\\u0627\\u062c\\u062a\\u0645\\u0627\\u0639\\u064a\\u0629\\u060c \\u0648\\u062a\\u0637\\u0648\\u0631 \\u0627\\u0644\\u0645\\u0648\\u0627\\u0632\\u0646\\u0629 \\u0627\\u0644\\u0639\\u0627\\u0645\\u0629 \\u062a\\u0645\\u0627\\u0631\\u0633 \\u062a\\u0623\\u062b\\u064a\\u0631\\u064b\\u0627 \\u0643\\u0628\\u064a\\u0631\\u064b\\u0627 \\u0639\\u0644\\u0649 \\u0637\\u0628\\u064a\\u0639\\u0629 \\u0627\\u0644\\u0646\\u0638\\u0627\\u0645 \\u0627\\u0644\\u0633\\u064a\\u0627\\u0633\\u0649 \\u0648\\u0627\\u0633\\u062a\\u0642\\u0631\\u0627\\u0631\\u0647\\u060c \\u0648\\u0644\\u0630\\u0644\\u0643 \\u0641\\u0625\\u0646\\u0647 \\u062a\\u0648\\u062c\\u062f \\u0639\\u0644\\u0627\\u0642\\u0629 \\u0648\\u062b\\u064a\\u0642\\u0629 \\u0627\\u0644\\u0635\\u0644\\u0629 \\u0628\\u064a\\u0646 \\u0627\\u0644\\u0628\\u0631\\u0644\\u0645\\u0627\\u0646 \\u0648\\u0627\\u0644\\u0645\\u0648\\u0627\\u0632\\u0646\\u0629 \\u0627\\u0644\\u0639\\u0627\\u0645\\u0629 \\u0644\\u0644\\u062f\\u0648\\u0644\\u0629.\",\n          \"\\u062a\\u0644\\u0639\\u0628 \\u0627\\u0644\\u0645\\u0648\\u0627\\u0632\\u0646\\u0629 \\u0627\\u0644\\u0639\\u0627\\u0645\\u0629 \\u062f\\u0648\\u0631\\u064b\\u0627 \\u0645\\u062d\\u0648\\u0631\\u064a\\u064b\\u0627 \\u0641\\u0649 \\u0627\\u0644\\u062f\\u0631\\u0627\\u0633\\u0627\\u062a \\u0627\\u0644\\u0627\\u0642\\u062a\\u0635\\u0627\\u062f\\u064a\\u0629 \\u0648\\u0627\\u0644\\u0645\\u0627\\u0644\\u064a\\u0629 \\u0648\\u0627\\u0644\\u0627\\u062c\\u062a\\u0645\\u0627\\u0639\\u064a\\u0629 \\u0648\\u0627\\u0644\\u0633\\u064a\\u0627\\u0633\\u064a\\u0629\\u060c \\u062d\\u064a\\u062b \\u062a\\u0624\\u062f\\u0649 \\u0625\\u0644\\u0649 \\u062a\\u062d\\u0642\\u064a\\u0642 \\u0627\\u0644\\u062a\\u0648\\u0627\\u0632\\u0646 \\u0641\\u0649 \\u062a\\u0648\\u0632\\u064a\\u0639 \\u0627\\u0644\\u062f\\u062e\\u0644 \\u0627\\u0644\\u0642\\u0648\\u0645\\u0649 \\u0628\\u0645\\u0627 \\u064a\\u062d\\u0642\\u0642 \\u0627\\u0644\\u0639\\u062f\\u0627\\u0644\\u0629 \\u0648\\u0627\\u0644\\u062a\\u0648\\u0627\\u0632\\u0646 \\u0627\\u0644\\u0627\\u062c\\u062a\\u0645\\u0627\\u0639\\u0649 \\u0641\\u0649 \\u0627\\u0644\\u0645\\u062c\\u062a\\u0645\\u0639\\u060c \\u0648\\u0647\\u0648 \\u0645\\u0627 \\u064a\\u0648\\u0627\\u0643\\u0628 \\u0646\\u0645\\u0648 \\u0627\\u0644\\u062d\\u0643\\u0648\\u0645\\u0627\\u062a \\u0627\\u0644\\u062f\\u064a\\u0645\\u0642\\u0631\\u0627\\u0637\\u064a\\u0629 \\u0627\\u0642\\u062a\\u0635\\u0627\\u062f\\u064a\\u064b\\u0627 \\u0641\\u062a\\u0633\\u062a\\u062e\\u062f\\u0645 \\u0627\\u0644\\u0645\\u0648\\u0627\\u0632\\u0646\\u0629 \\u0627\\u0644\\u0639\\u0627\\u0645\\u0629 \\u0643\\u0623\\u062f\\u0627\\u0629 \\u0641\\u0639\\u0627\\u0644\\u0629 \\u0641\\u0649 \\u062a\\u062d\\u0642\\u064a\\u0642 \\u0627\\u0644\\u062a\\u0646\\u0645\\u064a\\u0629 \\u0627\\u0644\\u0627\\u0642\\u062a\\u0635\\u0627\\u062f\\u064a\\u0629 \\u0648\\u062a\\u0634\\u062c\\u064a\\u0639 \\u0627\\u0644\\u0627\\u0633\\u062a\\u062b\\u0645\\u0627\\u0631\\u060c \\u0641\\u0647\\u0649 \\u062a\\u0647\\u062f\\u0641 \\u0625\\u0644\\u0649 \\u0628\\u062d\\u062b \\u0627\\u0644\\u0633\\u0628\\u0644 \\u0627\\u0644\\u062a\\u0649 \\u0645\\u0646 \\u062e\\u0644\\u0627\\u0644\\u0647\\u0627 \\u0623\\u0646 \\u062a\\u0624\\u062f\\u0649 \\u0625\\u0644\\u0649 \\u062a\\u062d\\u0642\\u064a\\u0642 \\u0647\\u0630\\u0647 \\u0627\\u0644\\u0623\\u0647\\u062f\\u0627\\u0641.\"\n        ],\n        \"semantic_type\": \"\",\n        \"description\": \"\"\n      }\n    }\n  ]\n}"
            }
          },
          "metadata": {},
          "execution_count": 83
        }
      ]
    },
    {
      "cell_type": "code",
      "source": [
        "df.tail()"
      ],
      "metadata": {
        "id": "bdB9GbFe3qPB"
      },
      "execution_count": null,
      "outputs": []
    },
    {
      "cell_type": "code",
      "source": [
        "df.shape"
      ],
      "metadata": {
        "id": "_vf0PTDH64Df"
      },
      "execution_count": null,
      "outputs": []
    },
    {
      "cell_type": "code",
      "source": [
        "\n",
        "\n",
        "print(\"Context:\\n\", df.loc[2, \"context\"])\n",
        "\n",
        "print(\"Question:\\n\", df.loc[2, \"question\"])\n",
        "print(\"Answer:\\n\", df.loc[2, \"answer\"])\n"
      ],
      "metadata": {
        "id": "m_rZz6pO3fKm"
      },
      "execution_count": null,
      "outputs": []
    },
    {
      "cell_type": "code",
      "source": [
        "\n",
        "#pd.set_option('display.max_colwidth', None)\n"
      ],
      "metadata": {
        "id": "esG2BayX55Pi"
      },
      "execution_count": null,
      "outputs": []
    },
    {
      "cell_type": "code",
      "source": [
        "df.tail(10)\n"
      ],
      "metadata": {
        "id": "KUCFLS3Z5xpB"
      },
      "execution_count": null,
      "outputs": []
    },
    {
      "cell_type": "code",
      "source": [
        "# CONCAT THE DF WITH TH FINAL_DF\n",
        "\n",
        "final_df = pd.concat([final_df, df], ignore_index=True)\n",
        "\n"
      ],
      "metadata": {
        "id": "TaYOjS4h51Lz"
      },
      "execution_count": null,
      "outputs": []
    },
    {
      "cell_type": "code",
      "source": [
        "final_df.shape"
      ],
      "metadata": {
        "id": "9shmGW0GFebt"
      },
      "execution_count": null,
      "outputs": []
    },
    {
      "cell_type": "markdown",
      "source": [
        "# Run this cell after you finish all the pages of the book"
      ],
      "metadata": {
        "id": "u09rEdfKMFJK"
      }
    },
    {
      "cell_type": "code",
      "source": [
        "# replace the book name\n",
        "\n",
        "\n",
        "final_df.to_csv(\"الوسيط_في_تنازع_القوانين_د_محمود_لطفي.csv\", index=False)\n",
        "\n",
        "files.download(\"الوسيط_في_تنازع_القوانين_د_محمود_لطفي.csv\")"
      ],
      "metadata": {
        "id": "xy5HfXm7MEqy",
        "colab": {
          "base_uri": "https://localhost:8080/",
          "height": 17
        },
        "outputId": "bdf703e8-1228-47fa-ef50-18a8f9851bb1"
      },
      "execution_count": null,
      "outputs": [
        {
          "output_type": "display_data",
          "data": {
            "text/plain": [
              "<IPython.core.display.Javascript object>"
            ],
            "application/javascript": [
              "\n",
              "    async function download(id, filename, size) {\n",
              "      if (!google.colab.kernel.accessAllowed) {\n",
              "        return;\n",
              "      }\n",
              "      const div = document.createElement('div');\n",
              "      const label = document.createElement('label');\n",
              "      label.textContent = `Downloading \"${filename}\": `;\n",
              "      div.appendChild(label);\n",
              "      const progress = document.createElement('progress');\n",
              "      progress.max = size;\n",
              "      div.appendChild(progress);\n",
              "      document.body.appendChild(div);\n",
              "\n",
              "      const buffers = [];\n",
              "      let downloaded = 0;\n",
              "\n",
              "      const channel = await google.colab.kernel.comms.open(id);\n",
              "      // Send a message to notify the kernel that we're ready.\n",
              "      channel.send({})\n",
              "\n",
              "      for await (const message of channel.messages) {\n",
              "        // Send a message to notify the kernel that we're ready.\n",
              "        channel.send({})\n",
              "        if (message.buffers) {\n",
              "          for (const buffer of message.buffers) {\n",
              "            buffers.push(buffer);\n",
              "            downloaded += buffer.byteLength;\n",
              "            progress.value = downloaded;\n",
              "          }\n",
              "        }\n",
              "      }\n",
              "      const blob = new Blob(buffers, {type: 'application/binary'});\n",
              "      const a = document.createElement('a');\n",
              "      a.href = window.URL.createObjectURL(blob);\n",
              "      a.download = filename;\n",
              "      div.appendChild(a);\n",
              "      a.click();\n",
              "      div.remove();\n",
              "    }\n",
              "  "
            ]
          },
          "metadata": {}
        },
        {
          "output_type": "display_data",
          "data": {
            "text/plain": [
              "<IPython.core.display.Javascript object>"
            ],
            "application/javascript": [
              "download(\"download_92d58313-00a1-43aa-87aa-bb3d35dfec6d\", \"\\u0627\\u0644\\u0648\\u0633\\u064a\\u0637_\\u0641\\u064a_\\u062a\\u0646\\u0627\\u0632\\u0639_\\u0627\\u0644\\u0642\\u0648\\u0627\\u0646\\u064a\\u0646_\\u062f_\\u0645\\u062d\\u0645\\u0648\\u062f_\\u0644\\u0637\\u0641\\u064a.csv\", 1875121)"
            ]
          },
          "metadata": {}
        }
      ]
    },
    {
      "cell_type": "code",
      "source": [],
      "metadata": {
        "id": "2b21fnZcVsos"
      },
      "execution_count": null,
      "outputs": []
    }
  ]
}