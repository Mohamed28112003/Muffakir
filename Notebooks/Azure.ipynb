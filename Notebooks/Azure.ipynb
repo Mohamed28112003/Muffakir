{
  "nbformat": 4,
  "nbformat_minor": 0,
  "metadata": {
    "colab": {
      "provenance": [],
      "mount_file_id": "1POVfrsx_T9xguPR2ggRsI9FalViAG3lg",
      "authorship_tag": "ABX9TyP/b1xcRv/LVPR0gOW4YzOM",
      "include_colab_link": true
    },
    "kernelspec": {
      "name": "python3",
      "display_name": "Python 3"
    },
    "language_info": {
      "name": "python"
    }
  },
  "cells": [
    {
      "cell_type": "markdown",
      "metadata": {
        "id": "view-in-github",
        "colab_type": "text"
      },
      "source": [
        "<a href=\"https://colab.research.google.com/github/Mohamed28112003/Muffakir/blob/main/Azure.ipynb\" target=\"_parent\"><img src=\"https://colab.research.google.com/assets/colab-badge.svg\" alt=\"Open In Colab\"/></a>"
      ]
    },
    {
      "cell_type": "code",
      "execution_count": null,
      "metadata": {
        "id": "q_JTinXfbv4h"
      },
      "outputs": [],
      "source": [
        "!pip install azure-ai-formrecognizer\n"
      ]
    },
    {
      "cell_type": "code",
      "source": [
        "from azure.ai.formrecognizer import DocumentAnalysisClient\n",
        "from azure.core.credentials import AzureKeyCredential\n",
        "\n",
        "# استبدل القيم الخاصة بك هنا\n",
        "endpoint = \"https://documentsfree.cognitiveservices.azure.com/\"\n",
        "api_key = \"8ec69b60270f4900b487ab5eabf265ac\"\n",
        "\n",
        "document_analysis_client = DocumentAnalysisClient(\n",
        "    endpoint=endpoint,\n",
        "    credential=AzureKeyCredential(api_key)\n",
        ")\n",
        "\n",
        "\n",
        "with open(\"file_Path\", \"rb\") as document:\n",
        "    poller = document_analysis_client.begin_analyze_document(\n",
        "        model_id=\"prebuilt-layout\",  # يمكنك استخدام نماذج مخصصة أو النماذج الجاهزة مثل layout أو invoices\n",
        "        document=document\n",
        "    )\n",
        "\n",
        "result = poller.result()\n",
        "\n",
        "print(f\"Total pages: {len(result.pages)}\")\n",
        "\n",
        "\n",
        "\n"
      ],
      "metadata": {
        "colab": {
          "base_uri": "https://localhost:8080/"
        },
        "id": "Fp8ovpFKb9Nt",
        "outputId": "5b9fa6b2-e04d-4eaf-83f5-4b24240592d9"
      },
      "execution_count": 30,
      "outputs": [
        {
          "output_type": "stream",
          "name": "stdout",
          "text": [
            "Total pages: 301\n"
          ]
        }
      ]
    },
    {
      "cell_type": "code",
      "source": [
        "\n",
        "with open(\"file_name.txt\", \"w\", encoding=\"utf-8\") as text_file:\n",
        "\n",
        "    print(f\"Total pages: {len(result.pages)}\", file=text_file)\n",
        "\n",
        "    for page in result.pages:\n",
        "        print(f\"\\nPage number: {page.page_number}\\n\", file=text_file)\n",
        "\n",
        "        for line in page.lines:\n",
        "            print(line.content, file=text_file)\n",
        "\n",
        "print(\"Text extracted and saved \")\n"
      ],
      "metadata": {
        "colab": {
          "base_uri": "https://localhost:8080/"
        },
        "id": "N2RJLSS5ejr4",
        "outputId": "27ddeec6-5441-4a53-993f-9211d2170f92"
      },
      "execution_count": 31,
      "outputs": [
        {
          "output_type": "stream",
          "name": "stdout",
          "text": [
            "Text extracted and saved \n"
          ]
        }
      ]
    },
    {
      "cell_type": "code",
      "source": [],
      "metadata": {
        "id": "LXGmf9gAgufD"
      },
      "execution_count": null,
      "outputs": []
    }
  ]
}