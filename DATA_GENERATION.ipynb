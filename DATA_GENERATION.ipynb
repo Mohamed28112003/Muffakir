{
  "nbformat": 4,
  "nbformat_minor": 0,
  "metadata": {
    "colab": {
      "provenance": [],
      "gpuType": "T4",
      "mount_file_id": "1v87AAUssRzby979xYyhmF-d_dtro9zFL",
      "authorship_tag": "ABX9TyNteXeYu777u+LKQpY+fO3F",
      "include_colab_link": true
    },
    "kernelspec": {
      "name": "python3",
      "display_name": "Python 3"
    },
    "language_info": {
      "name": "python"
    },
    "accelerator": "GPU"
  },
  "cells": [
    {
      "cell_type": "markdown",
      "metadata": {
        "id": "view-in-github",
        "colab_type": "text"
      },
      "source": [
        "<a href=\"https://colab.research.google.com/github/Mohamed28112003/Muffakir/blob/main/DATA_GENERATION.ipynb\" target=\"_parent\"><img src=\"https://colab.research.google.com/assets/colab-badge.svg\" alt=\"Open In Colab\"/></a>"
      ]
    },
    {
      "cell_type": "code",
      "execution_count": null,
      "metadata": {
        "id": "s10wH1WwjUpq"
      },
      "outputs": [],
      "source": [
        "!pip install  transformers\n",
        "!pip install -U bitsandbytes\n",
        "!pip install langchain_groq\n",
        "!pip install langchain\n",
        "!pip install -U langchain-community"
      ]
    },
    {
      "cell_type": "markdown",
      "source": [
        "Your final data frame"
      ],
      "metadata": {
        "id": "w76W90_BL4RK"
      }
    },
    {
      "cell_type": "code",
      "source": [
        "import pandas as pd\n",
        "final_df = pd.DataFrame()\n"
      ],
      "metadata": {
        "id": "NmZjXh7fLyc6"
      },
      "execution_count": null,
      "outputs": []
    },
    {
      "cell_type": "code",
      "source": [
        "from langchain.text_splitter import RecursiveCharacterTextSplitter, CharacterTextSplitter\n",
        "\n",
        "text_splitter_recursive = RecursiveCharacterTextSplitter(\n",
        "    chunk_size=1000,  # Adjust chunk size based on content length\n",
        "    chunk_overlap=0,  # No overlap needed\n",
        "    separators=[\"Page number\"] # Split at answer or next question\n",
        ")\n",
        "\n",
        "\n",
        "\n",
        "\n",
        "from langchain.document_loaders import TextLoader\n",
        "\n",
        "# Load documents from the specified directory\n",
        "data_loader = TextLoader('/content/drive/MyDrive/Data/حقوق /عين شمس /رابعه/TXT/اجراءات_الاستدلال_والتحقيق_أ_د_جميل_عبد_الباقي_الصغير.txt')\n",
        "data = data_loader.load_and_split(text_splitter=text_splitter_recursive) # Load documents\n",
        "print(f\"Documents : {len(data)}.\")\n"
      ],
      "metadata": {
        "colab": {
          "base_uri": "https://localhost:8080/"
        },
        "id": "47AoLdwJouSc",
        "outputId": "957cb984-7e22-4ad8-92f2-16315946a750"
      },
      "execution_count": null,
      "outputs": [
        {
          "output_type": "stream",
          "name": "stdout",
          "text": [
            "Documents : 395.\n"
          ]
        }
      ]
    },
    {
      "cell_type": "code",
      "source": [
        "print(data[185].page_content)"
      ],
      "metadata": {
        "id": "DkdPCc6WqTlT"
      },
      "execution_count": null,
      "outputs": []
    },
    {
      "cell_type": "code",
      "source": [
        "selected_data = data[1:390]\n",
        "## DO NOT FORGET TO EDIT THE NUMBERS HERE AND ALSO NEGLECT ANY USEFUL PAGES"
      ],
      "metadata": {
        "id": "bb4IiEU9qkqn"
      },
      "execution_count": null,
      "outputs": []
    },
    {
      "cell_type": "code",
      "source": [
        "from langchain_groq import ChatGroq\n"
      ],
      "metadata": {
        "id": "LjXH53LQsjrH"
      },
      "execution_count": null,
      "outputs": []
    },
    {
      "cell_type": "code",
      "source": [
        "\n",
        "# Initialize the ChatGroq model\n",
        "llm = ChatGroq(\n",
        "    api_key=\"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\",  # Retrieve the API key from the environment variable\n",
        "    model=\"llama-3.1-70b-versatile\",\n",
        "    temperature=0.7,\n",
        "    max_tokens=1024,\n",
        ")"
      ],
      "metadata": {
        "id": "SZGU6tn2sfn_"
      },
      "execution_count": null,
      "outputs": []
    },
    {
      "cell_type": "code",
      "source": [
        "#  you can optimize this prompt if you need but keep it with the smae format please :)\n",
        "\n",
        "prompt = \"\"\"\n",
        "\n",
        "Based on the following text, generate one Question and its corresponding Answer.\n",
        "For each question you formulate, provide a comprehensive answer with details immediately following the question, separated by a vertical bar \"|\" provide only 2-3 questions. The context to analyze is as follows: <Context> {context} </Context>.\n",
        "For Example :\n",
        "## Context:\n",
        "البعيد أو الغائي لقانون الإجراءات الجنائية يمثل ذات الهدف بالنسبة لكافة العلوم الجنائية.\n",
        "رابعاً - وظيفة قانون الإجراءات الجنائية:\n",
        "يمكن القول بأن الوظيفة الأساسية لهذا القانون هي تنظيم العدالة الجنائية؛ وتحقيق هذه\n",
        "الغاية يتطلب الموائمة بين اعتبارين. يتمثل الاعتبار الأول في وضع آلية يُمكن من خلالها\n",
        "تفعيل نصوص قانون العقوبات حماية للمصالح الاجتماعية العامة المتعددة، ويتجلى الاعتبار\n",
        "الثاني في ضمان حقوق الفرد وحريته في مواجهة السلطات الإجرائية الجنائية.\n",
        "\n",
        "# Your Response Sholud Be Like This format only do not add any thing else\n",
        "Question : وظيفة قانون الإجراءات الجنائية | يمكن القول بأن الوظيفة الأساسية لهذا القانون هي تنظيم العدالة الجنائية؛ وتحقيق هذه\n",
        "الغاية يتطلب الموائمة بين اعتبارين. يتمثل الاعتبار الأول في وضع آلية يُمكن من خلالها\n",
        "تفعيل نصوص قانون العقوبات حماية للمصالح الاجتماعية العامة المتعددة، ويتجلى الاعتبار\n",
        "الثاني في ضمان حقوق الفرد وحريته في مواجهة السلطات الإجرائية الجنائية.\n",
        "\n",
        "\n",
        "\n",
        "\"\"\""
      ],
      "metadata": {
        "id": "iLUTM7UBs2Fq"
      },
      "execution_count": null,
      "outputs": []
    },
    {
      "cell_type": "code",
      "source": [
        "from langchain.schema import HumanMessage  # Import HumanMessage\n"
      ],
      "metadata": {
        "id": "udWfbmBOs4yT"
      },
      "execution_count": null,
      "outputs": []
    },
    {
      "cell_type": "code",
      "source": [
        "import pandas as pd\n",
        "\n",
        "# List to hold the structured data\n",
        "results = []\n",
        "i=0\n",
        "for doc in selected_data:\n",
        "    Final_prompt = prompt.format(context=doc.page_content)\n",
        "    messages = [HumanMessage(content=Final_prompt)]\n",
        "    response = llm.invoke(messages)\n",
        "\n",
        "    # Split the response into individual question-answer pairs\n",
        "    qa_pairs = response.content.split(\"Question :\")\n",
        "    print(\"Counter:\", i)\n",
        "    # IF YOU WANT TO SEE THE PAGE CONTENT UN COMMENT THIS LINE\n",
        "    #print(\"Context  :  \",doc.page_content)\n",
        "\n",
        "    i+=1\n",
        "    for qa in qa_pairs[1:]:  # Skip the first empty part\n",
        "\n",
        "        question_answer = qa.split(\" | \")\n",
        "        if len(question_answer) == 2:\n",
        "            question = question_answer[0].strip()\n",
        "            answer = question_answer[1].strip()\n",
        "            print(\"Question:\", question)\n",
        "            print(\"Answer:\", answer)\n",
        "            # print(\"-------------------------------------------------------------------\")\n",
        "            # print(\"page_content\")\n",
        "            # print(doc.page_content)\n",
        "\n",
        "            results.append({\n",
        "                \"context\": doc.page_content,\n",
        "                \"question\": question,\n",
        "                \"answer\": answer\n",
        "            })\n",
        "\n"
      ],
      "metadata": {
        "id": "UEZYU3MFt9Op"
      },
      "execution_count": null,
      "outputs": []
    },
    {
      "cell_type": "code",
      "source": [
        "\n",
        "# Convert results to a DataFrame\n",
        "df = pd.DataFrame(results)\n"
      ],
      "metadata": {
        "id": "HKlYBS5myVZw"
      },
      "execution_count": null,
      "outputs": []
    },
    {
      "cell_type": "code",
      "source": [
        "df.tail()"
      ],
      "metadata": {
        "id": "bdB9GbFe3qPB"
      },
      "execution_count": null,
      "outputs": []
    },
    {
      "cell_type": "code",
      "source": [
        "df.shape"
      ],
      "metadata": {
        "colab": {
          "base_uri": "https://localhost:8080/"
        },
        "id": "_vf0PTDH64Df",
        "outputId": "607bb79d-0ca3-49ad-8ea5-30f24aa58412"
      },
      "execution_count": null,
      "outputs": [
        {
          "output_type": "execute_result",
          "data": {
            "text/plain": [
              "(340, 3)"
            ]
          },
          "metadata": {},
          "execution_count": 52
        }
      ]
    },
    {
      "cell_type": "code",
      "source": [
        "\n",
        "\n",
        "print(\"Context:\\n\", df.loc[2, \"context\"])\n",
        "\n",
        "print(\"Question:\\n\", df.loc[2, \"question\"])\n",
        "print(\"Answer:\\n\", df.loc[2, \"answer\"])\n"
      ],
      "metadata": {
        "id": "m_rZz6pO3fKm"
      },
      "execution_count": null,
      "outputs": []
    },
    {
      "cell_type": "code",
      "source": [
        "\n",
        "pd.set_option('display.max_colwidth', None)\n"
      ],
      "metadata": {
        "id": "esG2BayX55Pi"
      },
      "execution_count": null,
      "outputs": []
    },
    {
      "cell_type": "code",
      "source": [
        "df.tail(10)\n"
      ],
      "metadata": {
        "id": "KUCFLS3Z5xpB"
      },
      "execution_count": null,
      "outputs": []
    },
    {
      "cell_type": "code",
      "source": [
        "# CONCAT THE DF WITH TH FINAL_DF\n",
        "\n",
        "final_df = pd.concat([final_df, df], ignore_index=True)\n",
        "\n"
      ],
      "metadata": {
        "id": "TaYOjS4h51Lz"
      },
      "execution_count": null,
      "outputs": []
    },
    {
      "cell_type": "markdown",
      "source": [
        "# Run this cell after you finish all the pages of the book"
      ],
      "metadata": {
        "id": "u09rEdfKMFJK"
      }
    },
    {
      "cell_type": "code",
      "source": [
        "# replace the book name\n",
        "from google.colab import files\n",
        "\n",
        "\n",
        "final_df.to_csv('Book Name.csv', index=False)\n",
        "\n",
        "files.download('Book Name.csv')"
      ],
      "metadata": {
        "id": "xy5HfXm7MEqy"
      },
      "execution_count": null,
      "outputs": []
    }
  ]
}